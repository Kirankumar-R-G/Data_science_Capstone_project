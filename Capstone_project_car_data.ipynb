{
 "cells": [
  {
   "cell_type": "markdown",
   "id": "e9901f98",
   "metadata": {},
   "source": [
    "#                                    Capstone Project\n",
    "\n",
    "              Kirankumar R G"
   ]
  },
  {
   "cell_type": "markdown",
   "id": "d51c4681",
   "metadata": {},
   "source": [
    "### Importing Necessary Files"
   ]
  },
  {
   "cell_type": "code",
   "execution_count": 1,
   "id": "dc044d70",
   "metadata": {},
   "outputs": [],
   "source": [
    "import numpy as np\n",
    "import pandas as pd\n",
    "import matplotlib.pyplot as plt\n",
    "import seaborn as sns"
   ]
  },
  {
   "cell_type": "markdown",
   "id": "9ddb56cf",
   "metadata": {},
   "source": [
    "### Reading CSV file"
   ]
  },
  {
   "cell_type": "code",
   "execution_count": 2,
   "id": "e4f1cdac",
   "metadata": {},
   "outputs": [
    {
     "data": {
      "text/html": [
       "<div>\n",
       "<style scoped>\n",
       "    .dataframe tbody tr th:only-of-type {\n",
       "        vertical-align: middle;\n",
       "    }\n",
       "\n",
       "    .dataframe tbody tr th {\n",
       "        vertical-align: top;\n",
       "    }\n",
       "\n",
       "    .dataframe thead th {\n",
       "        text-align: right;\n",
       "    }\n",
       "</style>\n",
       "<table border=\"1\" class=\"dataframe\">\n",
       "  <thead>\n",
       "    <tr style=\"text-align: right;\">\n",
       "      <th></th>\n",
       "      <th>name</th>\n",
       "      <th>year</th>\n",
       "      <th>selling_price</th>\n",
       "      <th>km_driven</th>\n",
       "      <th>fuel</th>\n",
       "      <th>seller_type</th>\n",
       "      <th>transmission</th>\n",
       "      <th>owner</th>\n",
       "    </tr>\n",
       "  </thead>\n",
       "  <tbody>\n",
       "    <tr>\n",
       "      <th>0</th>\n",
       "      <td>Maruti 800 AC</td>\n",
       "      <td>2007</td>\n",
       "      <td>60000</td>\n",
       "      <td>70000</td>\n",
       "      <td>Petrol</td>\n",
       "      <td>Individual</td>\n",
       "      <td>Manual</td>\n",
       "      <td>First Owner</td>\n",
       "    </tr>\n",
       "    <tr>\n",
       "      <th>1</th>\n",
       "      <td>Maruti Wagon R LXI Minor</td>\n",
       "      <td>2007</td>\n",
       "      <td>135000</td>\n",
       "      <td>50000</td>\n",
       "      <td>Petrol</td>\n",
       "      <td>Individual</td>\n",
       "      <td>Manual</td>\n",
       "      <td>First Owner</td>\n",
       "    </tr>\n",
       "    <tr>\n",
       "      <th>2</th>\n",
       "      <td>Hyundai Verna 1.6 SX</td>\n",
       "      <td>2012</td>\n",
       "      <td>600000</td>\n",
       "      <td>100000</td>\n",
       "      <td>Diesel</td>\n",
       "      <td>Individual</td>\n",
       "      <td>Manual</td>\n",
       "      <td>First Owner</td>\n",
       "    </tr>\n",
       "    <tr>\n",
       "      <th>3</th>\n",
       "      <td>Datsun RediGO T Option</td>\n",
       "      <td>2017</td>\n",
       "      <td>250000</td>\n",
       "      <td>46000</td>\n",
       "      <td>Petrol</td>\n",
       "      <td>Individual</td>\n",
       "      <td>Manual</td>\n",
       "      <td>First Owner</td>\n",
       "    </tr>\n",
       "    <tr>\n",
       "      <th>4</th>\n",
       "      <td>Honda Amaze VX i-DTEC</td>\n",
       "      <td>2014</td>\n",
       "      <td>450000</td>\n",
       "      <td>141000</td>\n",
       "      <td>Diesel</td>\n",
       "      <td>Individual</td>\n",
       "      <td>Manual</td>\n",
       "      <td>Second Owner</td>\n",
       "    </tr>\n",
       "  </tbody>\n",
       "</table>\n",
       "</div>"
      ],
      "text/plain": [
       "                       name  year  selling_price  km_driven    fuel  \\\n",
       "0             Maruti 800 AC  2007          60000      70000  Petrol   \n",
       "1  Maruti Wagon R LXI Minor  2007         135000      50000  Petrol   \n",
       "2      Hyundai Verna 1.6 SX  2012         600000     100000  Diesel   \n",
       "3    Datsun RediGO T Option  2017         250000      46000  Petrol   \n",
       "4     Honda Amaze VX i-DTEC  2014         450000     141000  Diesel   \n",
       "\n",
       "  seller_type transmission         owner  \n",
       "0  Individual       Manual   First Owner  \n",
       "1  Individual       Manual   First Owner  \n",
       "2  Individual       Manual   First Owner  \n",
       "3  Individual       Manual   First Owner  \n",
       "4  Individual       Manual  Second Owner  "
      ]
     },
     "execution_count": 2,
     "metadata": {},
     "output_type": "execute_result"
    }
   ],
   "source": [
    "df=pd.read_csv(r'CAR DETAILS.csv')\n",
    "df.head()"
   ]
  },
  {
   "cell_type": "code",
   "execution_count": 3,
   "id": "17d54794",
   "metadata": {},
   "outputs": [
    {
     "data": {
      "text/plain": [
       "(4340, 8)"
      ]
     },
     "execution_count": 3,
     "metadata": {},
     "output_type": "execute_result"
    }
   ],
   "source": [
    "df.shape\n",
    "#4340 rows and 8 columns"
   ]
  },
  {
   "cell_type": "markdown",
   "id": "6340496b",
   "metadata": {},
   "source": [
    "### Data PreProcessing"
   ]
  },
  {
   "cell_type": "markdown",
   "id": "1682e03e",
   "metadata": {},
   "source": [
    "#### Handling Null values"
   ]
  },
  {
   "cell_type": "code",
   "execution_count": 4,
   "id": "ad788ecb",
   "metadata": {},
   "outputs": [
    {
     "data": {
      "text/plain": [
       "name             0\n",
       "year             0\n",
       "selling_price    0\n",
       "km_driven        0\n",
       "fuel             0\n",
       "seller_type      0\n",
       "transmission     0\n",
       "owner            0\n",
       "dtype: int64"
      ]
     },
     "execution_count": 4,
     "metadata": {},
     "output_type": "execute_result"
    }
   ],
   "source": [
    "df.isnull().sum()\n",
    "#there is no null values"
   ]
  },
  {
   "cell_type": "code",
   "execution_count": 5,
   "id": "d87fdc57",
   "metadata": {},
   "outputs": [
    {
     "data": {
      "text/plain": [
       "763"
      ]
     },
     "execution_count": 5,
     "metadata": {},
     "output_type": "execute_result"
    }
   ],
   "source": [
    "df.duplicated().sum()"
   ]
  },
  {
   "cell_type": "code",
   "execution_count": 6,
   "id": "f0525dbf",
   "metadata": {},
   "outputs": [
    {
     "data": {
      "text/plain": [
       "(3577, 8)"
      ]
     },
     "execution_count": 6,
     "metadata": {},
     "output_type": "execute_result"
    }
   ],
   "source": [
    "df.drop_duplicates(inplace=True)\n",
    "df.shape"
   ]
  },
  {
   "cell_type": "code",
   "execution_count": 7,
   "id": "8fcd87d5",
   "metadata": {},
   "outputs": [
    {
     "data": {
      "text/plain": [
       "name             object\n",
       "year              int64\n",
       "selling_price     int64\n",
       "km_driven         int64\n",
       "fuel             object\n",
       "seller_type      object\n",
       "transmission     object\n",
       "owner            object\n",
       "dtype: object"
      ]
     },
     "execution_count": 7,
     "metadata": {},
     "output_type": "execute_result"
    }
   ],
   "source": [
    "df.dtypes"
   ]
  },
  {
   "cell_type": "code",
   "execution_count": 8,
   "id": "9ac67b3c",
   "metadata": {},
   "outputs": [
    {
     "data": {
      "text/html": [
       "<div>\n",
       "<style scoped>\n",
       "    .dataframe tbody tr th:only-of-type {\n",
       "        vertical-align: middle;\n",
       "    }\n",
       "\n",
       "    .dataframe tbody tr th {\n",
       "        vertical-align: top;\n",
       "    }\n",
       "\n",
       "    .dataframe thead th {\n",
       "        text-align: right;\n",
       "    }\n",
       "</style>\n",
       "<table border=\"1\" class=\"dataframe\">\n",
       "  <thead>\n",
       "    <tr style=\"text-align: right;\">\n",
       "      <th></th>\n",
       "      <th>year</th>\n",
       "      <th>selling_price</th>\n",
       "      <th>km_driven</th>\n",
       "    </tr>\n",
       "  </thead>\n",
       "  <tbody>\n",
       "    <tr>\n",
       "      <th>count</th>\n",
       "      <td>3577.00</td>\n",
       "      <td>3577.00</td>\n",
       "      <td>3577.00</td>\n",
       "    </tr>\n",
       "    <tr>\n",
       "      <th>mean</th>\n",
       "      <td>2012.96</td>\n",
       "      <td>473912.54</td>\n",
       "      <td>69250.55</td>\n",
       "    </tr>\n",
       "    <tr>\n",
       "      <th>std</th>\n",
       "      <td>4.25</td>\n",
       "      <td>509301.81</td>\n",
       "      <td>47579.94</td>\n",
       "    </tr>\n",
       "    <tr>\n",
       "      <th>min</th>\n",
       "      <td>1992.00</td>\n",
       "      <td>20000.00</td>\n",
       "      <td>1.00</td>\n",
       "    </tr>\n",
       "    <tr>\n",
       "      <th>25%</th>\n",
       "      <td>2010.00</td>\n",
       "      <td>200000.00</td>\n",
       "      <td>36000.00</td>\n",
       "    </tr>\n",
       "    <tr>\n",
       "      <th>50%</th>\n",
       "      <td>2013.00</td>\n",
       "      <td>350000.00</td>\n",
       "      <td>60000.00</td>\n",
       "    </tr>\n",
       "    <tr>\n",
       "      <th>75%</th>\n",
       "      <td>2016.00</td>\n",
       "      <td>600000.00</td>\n",
       "      <td>90000.00</td>\n",
       "    </tr>\n",
       "    <tr>\n",
       "      <th>max</th>\n",
       "      <td>2020.00</td>\n",
       "      <td>8900000.00</td>\n",
       "      <td>806599.00</td>\n",
       "    </tr>\n",
       "  </tbody>\n",
       "</table>\n",
       "</div>"
      ],
      "text/plain": [
       "          year  selling_price  km_driven\n",
       "count  3577.00        3577.00    3577.00\n",
       "mean   2012.96      473912.54   69250.55\n",
       "std       4.25      509301.81   47579.94\n",
       "min    1992.00       20000.00       1.00\n",
       "25%    2010.00      200000.00   36000.00\n",
       "50%    2013.00      350000.00   60000.00\n",
       "75%    2016.00      600000.00   90000.00\n",
       "max    2020.00     8900000.00  806599.00"
      ]
     },
     "execution_count": 8,
     "metadata": {},
     "output_type": "execute_result"
    }
   ],
   "source": [
    "df.describe().round(2)"
   ]
  },
  {
   "cell_type": "markdown",
   "id": "ba8d6c1f",
   "metadata": {},
   "source": [
    "### Analysing Column \"name\""
   ]
  },
  {
   "cell_type": "code",
   "execution_count": 9,
   "id": "733f9e4b",
   "metadata": {},
   "outputs": [
    {
     "data": {
      "text/plain": [
       "1491"
      ]
     },
     "execution_count": 9,
     "metadata": {},
     "output_type": "execute_result"
    }
   ],
   "source": [
    "df[\"name\"].nunique()\n",
    "#we have 1491 unique value"
   ]
  },
  {
   "cell_type": "code",
   "execution_count": 10,
   "id": "51aa469d",
   "metadata": {},
   "outputs": [
    {
     "name": "stdout",
     "output_type": "stream",
     "text": [
      "3577\n"
     ]
    }
   ],
   "source": [
    "car_names=list(df['name'])\n",
    "#print(car_names)\n",
    "print(len(car_names))"
   ]
  },
  {
   "cell_type": "code",
   "execution_count": 11,
   "id": "a04c0c4a",
   "metadata": {},
   "outputs": [
    {
     "name": "stdout",
     "output_type": "stream",
     "text": [
      "3577\n",
      "3577\n",
      "3577\n"
     ]
    }
   ],
   "source": [
    "brand,model,sub_class=[],[],[]\n",
    "for car in car_names:\n",
    "    parts=car.split()\n",
    "    x=parts[0]\n",
    "    y=parts[1]\n",
    "    z=parts[2:]\n",
    "    brand.append(x)\n",
    "    model.append(y)\n",
    "    sub_class.append(z)\n",
    "    \n",
    "print(len(brand))\n",
    "print(len(model))\n",
    "print(len(sub_class))"
   ]
  },
  {
   "cell_type": "code",
   "execution_count": 12,
   "id": "e167fe6d",
   "metadata": {},
   "outputs": [],
   "source": [
    "sub_class=[' '.join(map(str, item)) for item in sub_class]\n",
    "df['brand']=brand\n",
    "df['model']=model\n",
    "df['sub_class']=sub_class\n",
    "df.head()"
   ]
  },
  {
   "cell_type": "code",
   "execution_count": 13,
   "id": "85239c73",
   "metadata": {},
   "outputs": [
    {
     "data": {
      "text/html": [
       "<div>\n",
       "<style scoped>\n",
       "    .dataframe tbody tr th:only-of-type {\n",
       "        vertical-align: middle;\n",
       "    }\n",
       "\n",
       "    .dataframe tbody tr th {\n",
       "        vertical-align: top;\n",
       "    }\n",
       "\n",
       "    .dataframe thead th {\n",
       "        text-align: right;\n",
       "    }\n",
       "</style>\n",
       "<table border=\"1\" class=\"dataframe\">\n",
       "  <thead>\n",
       "    <tr style=\"text-align: right;\">\n",
       "      <th></th>\n",
       "      <th>name</th>\n",
       "      <th>year</th>\n",
       "      <th>selling_price</th>\n",
       "      <th>km_driven</th>\n",
       "      <th>fuel</th>\n",
       "      <th>seller_type</th>\n",
       "      <th>transmission</th>\n",
       "      <th>owner</th>\n",
       "      <th>brand</th>\n",
       "      <th>model</th>\n",
       "      <th>sub_class</th>\n",
       "    </tr>\n",
       "  </thead>\n",
       "  <tbody>\n",
       "    <tr>\n",
       "      <th>0</th>\n",
       "      <td>Maruti 800 AC</td>\n",
       "      <td>2007</td>\n",
       "      <td>60000</td>\n",
       "      <td>70000</td>\n",
       "      <td>Petrol</td>\n",
       "      <td>Individual</td>\n",
       "      <td>Manual</td>\n",
       "      <td>First Owner</td>\n",
       "      <td>Maruti</td>\n",
       "      <td>800</td>\n",
       "      <td>AC</td>\n",
       "    </tr>\n",
       "    <tr>\n",
       "      <th>1</th>\n",
       "      <td>Maruti Wagon R LXI Minor</td>\n",
       "      <td>2007</td>\n",
       "      <td>135000</td>\n",
       "      <td>50000</td>\n",
       "      <td>Petrol</td>\n",
       "      <td>Individual</td>\n",
       "      <td>Manual</td>\n",
       "      <td>First Owner</td>\n",
       "      <td>Maruti</td>\n",
       "      <td>Wagon</td>\n",
       "      <td>R LXI Minor</td>\n",
       "    </tr>\n",
       "    <tr>\n",
       "      <th>2</th>\n",
       "      <td>Hyundai Verna 1.6 SX</td>\n",
       "      <td>2012</td>\n",
       "      <td>600000</td>\n",
       "      <td>100000</td>\n",
       "      <td>Diesel</td>\n",
       "      <td>Individual</td>\n",
       "      <td>Manual</td>\n",
       "      <td>First Owner</td>\n",
       "      <td>Hyundai</td>\n",
       "      <td>Verna</td>\n",
       "      <td>1.6 SX</td>\n",
       "    </tr>\n",
       "    <tr>\n",
       "      <th>3</th>\n",
       "      <td>Datsun RediGO T Option</td>\n",
       "      <td>2017</td>\n",
       "      <td>250000</td>\n",
       "      <td>46000</td>\n",
       "      <td>Petrol</td>\n",
       "      <td>Individual</td>\n",
       "      <td>Manual</td>\n",
       "      <td>First Owner</td>\n",
       "      <td>Datsun</td>\n",
       "      <td>RediGO</td>\n",
       "      <td>T Option</td>\n",
       "    </tr>\n",
       "    <tr>\n",
       "      <th>4</th>\n",
       "      <td>Honda Amaze VX i-DTEC</td>\n",
       "      <td>2014</td>\n",
       "      <td>450000</td>\n",
       "      <td>141000</td>\n",
       "      <td>Diesel</td>\n",
       "      <td>Individual</td>\n",
       "      <td>Manual</td>\n",
       "      <td>Second Owner</td>\n",
       "      <td>Honda</td>\n",
       "      <td>Amaze</td>\n",
       "      <td>VX i-DTEC</td>\n",
       "    </tr>\n",
       "  </tbody>\n",
       "</table>\n",
       "</div>"
      ],
      "text/plain": [
       "                       name  year  selling_price  km_driven    fuel  \\\n",
       "0             Maruti 800 AC  2007          60000      70000  Petrol   \n",
       "1  Maruti Wagon R LXI Minor  2007         135000      50000  Petrol   \n",
       "2      Hyundai Verna 1.6 SX  2012         600000     100000  Diesel   \n",
       "3    Datsun RediGO T Option  2017         250000      46000  Petrol   \n",
       "4     Honda Amaze VX i-DTEC  2014         450000     141000  Diesel   \n",
       "\n",
       "  seller_type transmission         owner    brand   model    sub_class  \n",
       "0  Individual       Manual   First Owner   Maruti     800           AC  \n",
       "1  Individual       Manual   First Owner   Maruti   Wagon  R LXI Minor  \n",
       "2  Individual       Manual   First Owner  Hyundai   Verna       1.6 SX  \n",
       "3  Individual       Manual   First Owner   Datsun  RediGO     T Option  \n",
       "4  Individual       Manual  Second Owner    Honda   Amaze    VX i-DTEC  "
      ]
     },
     "execution_count": 13,
     "metadata": {},
     "output_type": "execute_result"
    }
   ],
   "source": [
    "df['brand']=brand\n",
    "df['model']=model\n",
    "df['sub_class']=sub_class\n",
    "df.head()"
   ]
  },
  {
   "cell_type": "markdown",
   "id": "3e692b07",
   "metadata": {},
   "source": [
    "#### Approach\n",
    "1) We have 1497 unique features in name column \n",
    "2) To Reduce the complexity in name column we have created three new column such brand,model,sub_class\n",
    "3) Now we can drop the name column"
   ]
  },
  {
   "cell_type": "code",
   "execution_count": 14,
   "id": "282db22f",
   "metadata": {
    "scrolled": true
   },
   "outputs": [
    {
     "data": {
      "text/html": [
       "<div>\n",
       "<style scoped>\n",
       "    .dataframe tbody tr th:only-of-type {\n",
       "        vertical-align: middle;\n",
       "    }\n",
       "\n",
       "    .dataframe tbody tr th {\n",
       "        vertical-align: top;\n",
       "    }\n",
       "\n",
       "    .dataframe thead th {\n",
       "        text-align: right;\n",
       "    }\n",
       "</style>\n",
       "<table border=\"1\" class=\"dataframe\">\n",
       "  <thead>\n",
       "    <tr style=\"text-align: right;\">\n",
       "      <th></th>\n",
       "      <th>year</th>\n",
       "      <th>selling_price</th>\n",
       "      <th>km_driven</th>\n",
       "      <th>fuel</th>\n",
       "      <th>seller_type</th>\n",
       "      <th>transmission</th>\n",
       "      <th>owner</th>\n",
       "      <th>brand</th>\n",
       "      <th>model</th>\n",
       "      <th>sub_class</th>\n",
       "    </tr>\n",
       "  </thead>\n",
       "  <tbody>\n",
       "    <tr>\n",
       "      <th>0</th>\n",
       "      <td>2007</td>\n",
       "      <td>60000</td>\n",
       "      <td>70000</td>\n",
       "      <td>Petrol</td>\n",
       "      <td>Individual</td>\n",
       "      <td>Manual</td>\n",
       "      <td>First Owner</td>\n",
       "      <td>Maruti</td>\n",
       "      <td>800</td>\n",
       "      <td>AC</td>\n",
       "    </tr>\n",
       "    <tr>\n",
       "      <th>1</th>\n",
       "      <td>2007</td>\n",
       "      <td>135000</td>\n",
       "      <td>50000</td>\n",
       "      <td>Petrol</td>\n",
       "      <td>Individual</td>\n",
       "      <td>Manual</td>\n",
       "      <td>First Owner</td>\n",
       "      <td>Maruti</td>\n",
       "      <td>Wagon</td>\n",
       "      <td>R LXI Minor</td>\n",
       "    </tr>\n",
       "    <tr>\n",
       "      <th>2</th>\n",
       "      <td>2012</td>\n",
       "      <td>600000</td>\n",
       "      <td>100000</td>\n",
       "      <td>Diesel</td>\n",
       "      <td>Individual</td>\n",
       "      <td>Manual</td>\n",
       "      <td>First Owner</td>\n",
       "      <td>Hyundai</td>\n",
       "      <td>Verna</td>\n",
       "      <td>1.6 SX</td>\n",
       "    </tr>\n",
       "    <tr>\n",
       "      <th>3</th>\n",
       "      <td>2017</td>\n",
       "      <td>250000</td>\n",
       "      <td>46000</td>\n",
       "      <td>Petrol</td>\n",
       "      <td>Individual</td>\n",
       "      <td>Manual</td>\n",
       "      <td>First Owner</td>\n",
       "      <td>Datsun</td>\n",
       "      <td>RediGO</td>\n",
       "      <td>T Option</td>\n",
       "    </tr>\n",
       "    <tr>\n",
       "      <th>4</th>\n",
       "      <td>2014</td>\n",
       "      <td>450000</td>\n",
       "      <td>141000</td>\n",
       "      <td>Diesel</td>\n",
       "      <td>Individual</td>\n",
       "      <td>Manual</td>\n",
       "      <td>Second Owner</td>\n",
       "      <td>Honda</td>\n",
       "      <td>Amaze</td>\n",
       "      <td>VX i-DTEC</td>\n",
       "    </tr>\n",
       "  </tbody>\n",
       "</table>\n",
       "</div>"
      ],
      "text/plain": [
       "   year  selling_price  km_driven    fuel seller_type transmission  \\\n",
       "0  2007          60000      70000  Petrol  Individual       Manual   \n",
       "1  2007         135000      50000  Petrol  Individual       Manual   \n",
       "2  2012         600000     100000  Diesel  Individual       Manual   \n",
       "3  2017         250000      46000  Petrol  Individual       Manual   \n",
       "4  2014         450000     141000  Diesel  Individual       Manual   \n",
       "\n",
       "          owner    brand   model    sub_class  \n",
       "0   First Owner   Maruti     800           AC  \n",
       "1   First Owner   Maruti   Wagon  R LXI Minor  \n",
       "2   First Owner  Hyundai   Verna       1.6 SX  \n",
       "3   First Owner   Datsun  RediGO     T Option  \n",
       "4  Second Owner    Honda   Amaze    VX i-DTEC  "
      ]
     },
     "execution_count": 14,
     "metadata": {},
     "output_type": "execute_result"
    }
   ],
   "source": [
    "df.drop('name',axis=1,inplace=True)\n",
    "df.head()"
   ]
  },
  {
   "cell_type": "markdown",
   "id": "2137a5b4",
   "metadata": {},
   "source": [
    "### Exploratory Data Analysis (EDA)"
   ]
  },
  {
   "cell_type": "markdown",
   "id": "0be6cc25",
   "metadata": {},
   "source": [
    "#### Separting Categorical and Numerical Columns"
   ]
  },
  {
   "cell_type": "code",
   "execution_count": 15,
   "id": "e135e43d",
   "metadata": {},
   "outputs": [],
   "source": [
    "cat_cols=df.dtypes[df.dtypes=='object'].index\n",
    "num_cols=df.dtypes[df.dtypes!='object'].index"
   ]
  },
  {
   "cell_type": "code",
   "execution_count": 16,
   "id": "92b47fb3",
   "metadata": {},
   "outputs": [
    {
     "name": "stdout",
     "output_type": "stream",
     "text": [
      "Number of Unique feature for year 27\n",
      "Number of Unique feature for selling_price 445\n",
      "Number of Unique feature for km_driven 770\n"
     ]
    }
   ],
   "source": [
    "for i in num_cols:\n",
    "    print(f'Number of Unique feature for {i}', df[i].nunique())"
   ]
  },
  {
   "cell_type": "code",
   "execution_count": 17,
   "id": "3d53df05",
   "metadata": {},
   "outputs": [
    {
     "name": "stdout",
     "output_type": "stream",
     "text": [
      "Number of Unique feature for fuel 5\n",
      "Number of Unique feature for seller_type 3\n",
      "Number of Unique feature for transmission 2\n",
      "Number of Unique feature for owner 5\n",
      "Number of Unique feature for brand 29\n",
      "Number of Unique feature for model 185\n",
      "Number of Unique feature for sub_class 1388\n"
     ]
    }
   ],
   "source": [
    "for i in cat_cols:\n",
    "    print(f'Number of Unique feature for {i}', df[i].nunique())"
   ]
  },
  {
   "cell_type": "code",
   "execution_count": 18,
   "id": "c3541362",
   "metadata": {},
   "outputs": [
    {
     "name": "stdout",
     "output_type": "stream",
     "text": [
      "Index(['fuel', 'seller_type', 'transmission', 'owner', 'brand', 'model',\n",
      "       'sub_class'],\n",
      "      dtype='object')\n",
      "Index(['year', 'selling_price', 'km_driven'], dtype='object')\n"
     ]
    }
   ],
   "source": [
    "print(cat_cols)\n",
    "print(num_cols)"
   ]
  },
  {
   "cell_type": "markdown",
   "id": "cffb7187",
   "metadata": {},
   "source": [
    "#### EDA for Categorical Columns"
   ]
  },
  {
   "cell_type": "code",
   "execution_count": 19,
   "id": "c0ba9e2f",
   "metadata": {},
   "outputs": [
    {
     "data": {
      "image/png": "[encoded data removed]",
      "text/plain": [
       "<Figure size 1200x1200 with 4 Axes>"
      ]
     },
     "metadata": {},
     "output_type": "display_data"
    }
   ],
   "source": [
    "plt.figure(figsize=(12,12))\n",
    "for i,cat in enumerate(cat_cols[1:5]):\n",
    "    plt.subplot(3,2,i+1)\n",
    "    sns.countplot(data=df,x=cat)\n",
    "    plt.xticks(rotation=45)\n",
    "    plt.title(f'Count Plot for {cat}')\n",
    "plt.tight_layout()\n",
    "#plt.savefig(\"Categorical Plot\")\n",
    "plt.show()"
   ]
  },
  {
   "cell_type": "markdown",
   "id": "e23b1f24",
   "metadata": {},
   "source": [
    "### Insights\n",
    "1) Most of the used cars available are belongs to petrol and Diesel category\n",
    "2) All most all the cars transmisson are of Manually operated\n",
    "3) Available cars are more likely to be First and 2nd Hand users only\n",
    "4) Sellers prefer to sell their car directly to customers ( individual ) compare to Dealer or Trusted Dealer\n",
    "5) Maruti, Hyundai, Mahindra, Tata are most of used cars available in market compare to other brands of cars\n"
   ]
  },
  {
   "cell_type": "markdown",
   "id": "7657b512",
   "metadata": {},
   "source": [
    "#### EDA for Continuous Columns"
   ]
  },
  {
   "cell_type": "code",
   "execution_count": 20,
   "id": "5e2312f8",
   "metadata": {},
   "outputs": [
    {
     "data": {
      "image/png": "[encoded data removed]",
      "text/plain": [
       "<Figure size 1000x800 with 3 Axes>"
      ]
     },
     "metadata": {},
     "output_type": "display_data"
    }
   ],
   "source": [
    "plt.figure(figsize=(10,8))\n",
    "for i in range(len(num_cols)):\n",
    "    plt.subplot(2,3,i+1)\n",
    "    sns.histplot(data=df,x=num_cols[i],kde=True,hue='seller_type')\n",
    "    plt.xticks(rotation=0)\n",
    "#plt.savefig('Histoplot ')\n",
    "plt.tight_layout()\n",
    "plt.show()"
   ]
  },
  {
   "cell_type": "markdown",
   "id": "c4007c95",
   "metadata": {},
   "source": [
    "#### Insights\n",
    "1) Most of the available used cars released after 2005\n",
    "2) 90 percentage of cars are sold for less than 1500000\n",
    "3) Sellers prefers to sell their cars before reaching 200000 km \n",
    "4) Its clearly indicates individual sellers are more available in the market compare to Third party sellers\n"
   ]
  },
  {
   "cell_type": "markdown",
   "id": "4221aa66",
   "metadata": {},
   "source": [
    "#### Box Plots"
   ]
  },
  {
   "cell_type": "code",
   "execution_count": 21,
   "id": "1254d8f2",
   "metadata": {},
   "outputs": [
    {
     "data": {
      "image/png": "[encoded data removed]",
      "text/plain": [
       "<Figure size 1000x400 with 3 Axes>"
      ]
     },
     "metadata": {},
     "output_type": "display_data"
    }
   ],
   "source": [
    "plt.figure(figsize=(10,4))\n",
    "for i in range(len(num_cols)):\n",
    "    plt.subplot(1,3,i+1)\n",
    "    sns.boxplot(data=df,x=num_cols[i])  \n",
    "    plt.title(f'Box Plot for {num_cols[i]}')\n",
    "plt.savefig(\"Box Plot\")\n",
    "plt.tight_layout()\n",
    "plt.show()"
   ]
  },
  {
   "cell_type": "code",
   "execution_count": 22,
   "id": "9a4281f6",
   "metadata": {},
   "outputs": [
    {
     "data": {
      "image/png": "[encoded data removed]",
      "text/plain": [
       "<Figure size 871.375x750 with 12 Axes>"
      ]
     },
     "metadata": {},
     "output_type": "display_data"
    }
   ],
   "source": [
    "sns.pairplot(df,hue='transmission')\n",
    "plt.savefig(\"Paiplot for continuous variable\")\n",
    "plt.show()"
   ]
  },
  {
   "cell_type": "code",
   "execution_count": null,
   "id": "9bd6528b",
   "metadata": {},
   "outputs": [],
   "source": []
  },
  {
   "cell_type": "markdown",
   "id": "e84265c0",
   "metadata": {},
   "source": [
    "### Treating Outliears"
   ]
  },
  {
   "cell_type": "code",
   "execution_count": 23,
   "id": "130d8ab3",
   "metadata": {},
   "outputs": [
    {
     "data": {
      "text/html": [
       "<div>\n",
       "<style scoped>\n",
       "    .dataframe tbody tr th:only-of-type {\n",
       "        vertical-align: middle;\n",
       "    }\n",
       "\n",
       "    .dataframe tbody tr th {\n",
       "        vertical-align: top;\n",
       "    }\n",
       "\n",
       "    .dataframe thead th {\n",
       "        text-align: right;\n",
       "    }\n",
       "</style>\n",
       "<table border=\"1\" class=\"dataframe\">\n",
       "  <thead>\n",
       "    <tr style=\"text-align: right;\">\n",
       "      <th></th>\n",
       "      <th>min</th>\n",
       "      <th>1%</th>\n",
       "      <th>2%</th>\n",
       "      <th>3%</th>\n",
       "      <th>5%</th>\n",
       "      <th>50%</th>\n",
       "      <th>95%</th>\n",
       "      <th>97%</th>\n",
       "      <th>98%</th>\n",
       "      <th>99%</th>\n",
       "      <th>max</th>\n",
       "    </tr>\n",
       "  </thead>\n",
       "  <tbody>\n",
       "    <tr>\n",
       "      <th>year</th>\n",
       "      <td>1992.0</td>\n",
       "      <td>2000.00</td>\n",
       "      <td>2003.0</td>\n",
       "      <td>2004.0</td>\n",
       "      <td>2005.0</td>\n",
       "      <td>2013.0</td>\n",
       "      <td>2019.0</td>\n",
       "      <td>2019.0</td>\n",
       "      <td>2019.0</td>\n",
       "      <td>2020.0</td>\n",
       "      <td>2020.0</td>\n",
       "    </tr>\n",
       "    <tr>\n",
       "      <th>selling_price</th>\n",
       "      <td>20000.0</td>\n",
       "      <td>51786.64</td>\n",
       "      <td>60000.0</td>\n",
       "      <td>70000.0</td>\n",
       "      <td>80000.0</td>\n",
       "      <td>350000.0</td>\n",
       "      <td>1200000.0</td>\n",
       "      <td>1497200.0</td>\n",
       "      <td>1800000.0</td>\n",
       "      <td>2675000.0</td>\n",
       "      <td>8900000.0</td>\n",
       "    </tr>\n",
       "    <tr>\n",
       "      <th>km_driven</th>\n",
       "      <td>1.0</td>\n",
       "      <td>1744.08</td>\n",
       "      <td>5000.0</td>\n",
       "      <td>6525.2</td>\n",
       "      <td>10000.0</td>\n",
       "      <td>60000.0</td>\n",
       "      <td>149534.8</td>\n",
       "      <td>170000.0</td>\n",
       "      <td>193440.0</td>\n",
       "      <td>223158.4</td>\n",
       "      <td>806599.0</td>\n",
       "    </tr>\n",
       "  </tbody>\n",
       "</table>\n",
       "</div>"
      ],
      "text/plain": [
       "                   min        1%       2%       3%       5%       50%  \\\n",
       "year            1992.0   2000.00   2003.0   2004.0   2005.0    2013.0   \n",
       "selling_price  20000.0  51786.64  60000.0  70000.0  80000.0  350000.0   \n",
       "km_driven          1.0   1744.08   5000.0   6525.2  10000.0   60000.0   \n",
       "\n",
       "                     95%        97%        98%        99%        max  \n",
       "year              2019.0     2019.0     2019.0     2020.0     2020.0  \n",
       "selling_price  1200000.0  1497200.0  1800000.0  2675000.0  8900000.0  \n",
       "km_driven       149534.8   170000.0   193440.0   223158.4   806599.0  "
      ]
     },
     "execution_count": 23,
     "metadata": {},
     "output_type": "execute_result"
    }
   ],
   "source": [
    "r=df.describe(percentiles=(0.01,0.02,0.03,0.05,0.95,0.97,0.98,0.99)).T\n",
    "r=r.iloc[:,3:]\n",
    "r"
   ]
  },
  {
   "cell_type": "code",
   "execution_count": 24,
   "id": "c15f038e",
   "metadata": {},
   "outputs": [],
   "source": [
    "#Traeting the selling and Km_driven columns\n",
    "df['selling_price']=np.where(df[\"selling_price\"]>2675000.0,2675000.0,df['selling_price'])\n",
    "df['km_driven']=np.where(df['km_driven']>223158.4,223158.4,df['km_driven'])"
   ]
  },
  {
   "cell_type": "code",
   "execution_count": 25,
   "id": "66c5ab1c",
   "metadata": {},
   "outputs": [],
   "source": [
    "df['selling_price']=np.where(df[\"selling_price\"]<51786.64,51786.64,df['selling_price'])\n",
    "df['km_driven']=np.where(df['km_driven']<1744.08,1744.08,df['km_driven'])"
   ]
  },
  {
   "cell_type": "code",
   "execution_count": 26,
   "id": "e2242606",
   "metadata": {},
   "outputs": [
    {
     "data": {
      "text/html": [
       "<div>\n",
       "<style scoped>\n",
       "    .dataframe tbody tr th:only-of-type {\n",
       "        vertical-align: middle;\n",
       "    }\n",
       "\n",
       "    .dataframe tbody tr th {\n",
       "        vertical-align: top;\n",
       "    }\n",
       "\n",
       "    .dataframe thead th {\n",
       "        text-align: right;\n",
       "    }\n",
       "</style>\n",
       "<table border=\"1\" class=\"dataframe\">\n",
       "  <thead>\n",
       "    <tr style=\"text-align: right;\">\n",
       "      <th></th>\n",
       "      <th>min</th>\n",
       "      <th>1%</th>\n",
       "      <th>2%</th>\n",
       "      <th>3%</th>\n",
       "      <th>5%</th>\n",
       "      <th>50%</th>\n",
       "      <th>95%</th>\n",
       "      <th>97%</th>\n",
       "      <th>98%</th>\n",
       "      <th>99%</th>\n",
       "      <th>max</th>\n",
       "    </tr>\n",
       "  </thead>\n",
       "  <tbody>\n",
       "    <tr>\n",
       "      <th>year</th>\n",
       "      <td>1992.00</td>\n",
       "      <td>2000.0000</td>\n",
       "      <td>2003.0</td>\n",
       "      <td>2004.0</td>\n",
       "      <td>2005.0</td>\n",
       "      <td>2013.0</td>\n",
       "      <td>2019.0</td>\n",
       "      <td>2019.0</td>\n",
       "      <td>2019.0</td>\n",
       "      <td>2020.000</td>\n",
       "      <td>2020.0</td>\n",
       "    </tr>\n",
       "    <tr>\n",
       "      <th>selling_price</th>\n",
       "      <td>51786.64</td>\n",
       "      <td>51948.7936</td>\n",
       "      <td>60000.0</td>\n",
       "      <td>70000.0</td>\n",
       "      <td>80000.0</td>\n",
       "      <td>350000.0</td>\n",
       "      <td>1200000.0</td>\n",
       "      <td>1497200.0</td>\n",
       "      <td>1800000.0</td>\n",
       "      <td>2675000.000</td>\n",
       "      <td>2675000.0</td>\n",
       "    </tr>\n",
       "    <tr>\n",
       "      <th>km_driven</th>\n",
       "      <td>1744.08</td>\n",
       "      <td>1754.6592</td>\n",
       "      <td>5000.0</td>\n",
       "      <td>6525.2</td>\n",
       "      <td>10000.0</td>\n",
       "      <td>60000.0</td>\n",
       "      <td>149534.8</td>\n",
       "      <td>170000.0</td>\n",
       "      <td>193440.0</td>\n",
       "      <td>223038.016</td>\n",
       "      <td>223158.4</td>\n",
       "    </tr>\n",
       "  </tbody>\n",
       "</table>\n",
       "</div>"
      ],
      "text/plain": [
       "                    min          1%       2%       3%       5%       50%  \\\n",
       "year            1992.00   2000.0000   2003.0   2004.0   2005.0    2013.0   \n",
       "selling_price  51786.64  51948.7936  60000.0  70000.0  80000.0  350000.0   \n",
       "km_driven       1744.08   1754.6592   5000.0   6525.2  10000.0   60000.0   \n",
       "\n",
       "                     95%        97%        98%          99%        max  \n",
       "year              2019.0     2019.0     2019.0     2020.000     2020.0  \n",
       "selling_price  1200000.0  1497200.0  1800000.0  2675000.000  2675000.0  \n",
       "km_driven       149534.8   170000.0   193440.0   223038.016   223158.4  "
      ]
     },
     "execution_count": 26,
     "metadata": {},
     "output_type": "execute_result"
    }
   ],
   "source": [
    "r=df.describe(percentiles=(0.01,0.02,0.03,0.05,0.95,0.97,0.98,0.99)).T\n",
    "r=r.iloc[:,3:]\n",
    "r"
   ]
  },
  {
   "cell_type": "markdown",
   "id": "68f21fe5",
   "metadata": {},
   "source": [
    "### Correlation Map"
   ]
  },
  {
   "cell_type": "code",
   "execution_count": 27,
   "id": "4863b03f",
   "metadata": {},
   "outputs": [
    {
     "data": {
      "image/png": "[encoded data removed]",
      "text/plain": [
       "<Figure size 640x480 with 2 Axes>"
      ]
     },
     "metadata": {},
     "output_type": "display_data"
    }
   ],
   "source": [
    "corr=df[num_cols].corr()\n",
    "sns.heatmap(corr,cmap='coolwarm',annot=True)\n",
    "plt.savefig('Correlation Graph')\n",
    "plt.show()"
   ]
  },
  {
   "cell_type": "code",
   "execution_count": 28,
   "id": "257de00b",
   "metadata": {},
   "outputs": [],
   "source": [
    "df2=df.copy()"
   ]
  },
  {
   "cell_type": "code",
   "execution_count": 29,
   "id": "fb047dd6",
   "metadata": {},
   "outputs": [
    {
     "data": {
      "text/plain": [
       "Index(['year', 'selling_price', 'km_driven', 'fuel', 'seller_type',\n",
       "       'transmission', 'owner', 'brand', 'model', 'sub_class'],\n",
       "      dtype='object')"
      ]
     },
     "execution_count": 29,
     "metadata": {},
     "output_type": "execute_result"
    }
   ],
   "source": [
    "df.columns"
   ]
  },
  {
   "cell_type": "markdown",
   "id": "72664070",
   "metadata": {},
   "source": [
    "### Encoding"
   ]
  },
  {
   "cell_type": "code",
   "execution_count": 30,
   "id": "18c65f71",
   "metadata": {},
   "outputs": [],
   "source": [
    "from sklearn.preprocessing import LabelEncoder\n",
    "lb=LabelEncoder()"
   ]
  },
  {
   "cell_type": "code",
   "execution_count": 31,
   "id": "38b19fa6",
   "metadata": {},
   "outputs": [],
   "source": [
    "df['model_enc']=lb.fit_transform(df['model'])"
   ]
  },
  {
   "cell_type": "code",
   "execution_count": 32,
   "id": "c2626271",
   "metadata": {},
   "outputs": [
    {
     "data": {
      "text/html": [
       "<div>\n",
       "<style scoped>\n",
       "    .dataframe tbody tr th:only-of-type {\n",
       "        vertical-align: middle;\n",
       "    }\n",
       "\n",
       "    .dataframe tbody tr th {\n",
       "        vertical-align: top;\n",
       "    }\n",
       "\n",
       "    .dataframe thead th {\n",
       "        text-align: right;\n",
       "    }\n",
       "</style>\n",
       "<table border=\"1\" class=\"dataframe\">\n",
       "  <thead>\n",
       "    <tr style=\"text-align: right;\">\n",
       "      <th></th>\n",
       "      <th>year</th>\n",
       "      <th>selling_price</th>\n",
       "      <th>km_driven</th>\n",
       "      <th>fuel</th>\n",
       "      <th>seller_type</th>\n",
       "      <th>transmission</th>\n",
       "      <th>owner</th>\n",
       "      <th>brand</th>\n",
       "      <th>model</th>\n",
       "      <th>sub_class</th>\n",
       "      <th>model_enc</th>\n",
       "    </tr>\n",
       "  </thead>\n",
       "  <tbody>\n",
       "    <tr>\n",
       "      <th>0</th>\n",
       "      <td>2007</td>\n",
       "      <td>60000.0</td>\n",
       "      <td>70000.0</td>\n",
       "      <td>Petrol</td>\n",
       "      <td>Individual</td>\n",
       "      <td>Manual</td>\n",
       "      <td>First Owner</td>\n",
       "      <td>Maruti</td>\n",
       "      <td>800</td>\n",
       "      <td>AC</td>\n",
       "      <td>6</td>\n",
       "    </tr>\n",
       "    <tr>\n",
       "      <th>1</th>\n",
       "      <td>2007</td>\n",
       "      <td>135000.0</td>\n",
       "      <td>50000.0</td>\n",
       "      <td>Petrol</td>\n",
       "      <td>Individual</td>\n",
       "      <td>Manual</td>\n",
       "      <td>First Owner</td>\n",
       "      <td>Maruti</td>\n",
       "      <td>Wagon</td>\n",
       "      <td>R LXI Minor</td>\n",
       "      <td>164</td>\n",
       "    </tr>\n",
       "    <tr>\n",
       "      <th>2</th>\n",
       "      <td>2012</td>\n",
       "      <td>600000.0</td>\n",
       "      <td>100000.0</td>\n",
       "      <td>Diesel</td>\n",
       "      <td>Individual</td>\n",
       "      <td>Manual</td>\n",
       "      <td>First Owner</td>\n",
       "      <td>Hyundai</td>\n",
       "      <td>Verna</td>\n",
       "      <td>1.6 SX</td>\n",
       "      <td>161</td>\n",
       "    </tr>\n",
       "    <tr>\n",
       "      <th>3</th>\n",
       "      <td>2017</td>\n",
       "      <td>250000.0</td>\n",
       "      <td>46000.0</td>\n",
       "      <td>Petrol</td>\n",
       "      <td>Individual</td>\n",
       "      <td>Manual</td>\n",
       "      <td>First Owner</td>\n",
       "      <td>Datsun</td>\n",
       "      <td>RediGO</td>\n",
       "      <td>T Option</td>\n",
       "      <td>125</td>\n",
       "    </tr>\n",
       "    <tr>\n",
       "      <th>4</th>\n",
       "      <td>2014</td>\n",
       "      <td>450000.0</td>\n",
       "      <td>141000.0</td>\n",
       "      <td>Diesel</td>\n",
       "      <td>Individual</td>\n",
       "      <td>Manual</td>\n",
       "      <td>Second Owner</td>\n",
       "      <td>Honda</td>\n",
       "      <td>Amaze</td>\n",
       "      <td>VX i-DTEC</td>\n",
       "      <td>17</td>\n",
       "    </tr>\n",
       "  </tbody>\n",
       "</table>\n",
       "</div>"
      ],
      "text/plain": [
       "   year  selling_price  km_driven    fuel seller_type transmission  \\\n",
       "0  2007        60000.0    70000.0  Petrol  Individual       Manual   \n",
       "1  2007       135000.0    50000.0  Petrol  Individual       Manual   \n",
       "2  2012       600000.0   100000.0  Diesel  Individual       Manual   \n",
       "3  2017       250000.0    46000.0  Petrol  Individual       Manual   \n",
       "4  2014       450000.0   141000.0  Diesel  Individual       Manual   \n",
       "\n",
       "          owner    brand   model    sub_class  model_enc  \n",
       "0   First Owner   Maruti     800           AC          6  \n",
       "1   First Owner   Maruti   Wagon  R LXI Minor        164  \n",
       "2   First Owner  Hyundai   Verna       1.6 SX        161  \n",
       "3   First Owner   Datsun  RediGO     T Option        125  \n",
       "4  Second Owner    Honda   Amaze    VX i-DTEC         17  "
      ]
     },
     "execution_count": 32,
     "metadata": {},
     "output_type": "execute_result"
    }
   ],
   "source": [
    "df.head()"
   ]
  },
  {
   "cell_type": "code",
   "execution_count": 33,
   "id": "1ad07d99",
   "metadata": {},
   "outputs": [
    {
     "data": {
      "text/html": [
       "<div>\n",
       "<style scoped>\n",
       "    .dataframe tbody tr th:only-of-type {\n",
       "        vertical-align: middle;\n",
       "    }\n",
       "\n",
       "    .dataframe tbody tr th {\n",
       "        vertical-align: top;\n",
       "    }\n",
       "\n",
       "    .dataframe thead th {\n",
       "        text-align: right;\n",
       "    }\n",
       "</style>\n",
       "<table border=\"1\" class=\"dataframe\">\n",
       "  <thead>\n",
       "    <tr style=\"text-align: right;\">\n",
       "      <th></th>\n",
       "      <th>model_enc</th>\n",
       "      <th>model</th>\n",
       "    </tr>\n",
       "  </thead>\n",
       "  <tbody>\n",
       "    <tr>\n",
       "      <th>0</th>\n",
       "      <td>6</td>\n",
       "      <td>800</td>\n",
       "    </tr>\n",
       "    <tr>\n",
       "      <th>1</th>\n",
       "      <td>164</td>\n",
       "      <td>Wagon</td>\n",
       "    </tr>\n",
       "    <tr>\n",
       "      <th>2</th>\n",
       "      <td>161</td>\n",
       "      <td>Verna</td>\n",
       "    </tr>\n",
       "    <tr>\n",
       "      <th>3</th>\n",
       "      <td>125</td>\n",
       "      <td>RediGO</td>\n",
       "    </tr>\n",
       "    <tr>\n",
       "      <th>4</th>\n",
       "      <td>17</td>\n",
       "      <td>Amaze</td>\n",
       "    </tr>\n",
       "  </tbody>\n",
       "</table>\n",
       "</div>"
      ],
      "text/plain": [
       "   model_enc   model\n",
       "0          6     800\n",
       "1        164   Wagon\n",
       "2        161   Verna\n",
       "3        125  RediGO\n",
       "4         17   Amaze"
      ]
     },
     "execution_count": 33,
     "metadata": {},
     "output_type": "execute_result"
    }
   ],
   "source": [
    "x=df[['model_enc','model']]\n",
    "x.head()"
   ]
  },
  {
   "cell_type": "code",
   "execution_count": 34,
   "id": "9a80d8f9",
   "metadata": {},
   "outputs": [
    {
     "data": {
      "text/html": [
       "<div>\n",
       "<style scoped>\n",
       "    .dataframe tbody tr th:only-of-type {\n",
       "        vertical-align: middle;\n",
       "    }\n",
       "\n",
       "    .dataframe tbody tr th {\n",
       "        vertical-align: top;\n",
       "    }\n",
       "\n",
       "    .dataframe thead th {\n",
       "        text-align: right;\n",
       "    }\n",
       "</style>\n",
       "<table border=\"1\" class=\"dataframe\">\n",
       "  <thead>\n",
       "    <tr style=\"text-align: right;\">\n",
       "      <th></th>\n",
       "      <th>year</th>\n",
       "      <th>selling_price</th>\n",
       "      <th>km_driven</th>\n",
       "      <th>fuel</th>\n",
       "      <th>seller_type</th>\n",
       "      <th>transmission</th>\n",
       "      <th>owner</th>\n",
       "      <th>brand</th>\n",
       "      <th>model</th>\n",
       "      <th>model_enc</th>\n",
       "    </tr>\n",
       "  </thead>\n",
       "  <tbody>\n",
       "    <tr>\n",
       "      <th>0</th>\n",
       "      <td>2007</td>\n",
       "      <td>60000.0</td>\n",
       "      <td>70000.0</td>\n",
       "      <td>Petrol</td>\n",
       "      <td>Individual</td>\n",
       "      <td>Manual</td>\n",
       "      <td>First Owner</td>\n",
       "      <td>Maruti</td>\n",
       "      <td>800</td>\n",
       "      <td>6</td>\n",
       "    </tr>\n",
       "    <tr>\n",
       "      <th>1</th>\n",
       "      <td>2007</td>\n",
       "      <td>135000.0</td>\n",
       "      <td>50000.0</td>\n",
       "      <td>Petrol</td>\n",
       "      <td>Individual</td>\n",
       "      <td>Manual</td>\n",
       "      <td>First Owner</td>\n",
       "      <td>Maruti</td>\n",
       "      <td>Wagon</td>\n",
       "      <td>164</td>\n",
       "    </tr>\n",
       "    <tr>\n",
       "      <th>2</th>\n",
       "      <td>2012</td>\n",
       "      <td>600000.0</td>\n",
       "      <td>100000.0</td>\n",
       "      <td>Diesel</td>\n",
       "      <td>Individual</td>\n",
       "      <td>Manual</td>\n",
       "      <td>First Owner</td>\n",
       "      <td>Hyundai</td>\n",
       "      <td>Verna</td>\n",
       "      <td>161</td>\n",
       "    </tr>\n",
       "    <tr>\n",
       "      <th>3</th>\n",
       "      <td>2017</td>\n",
       "      <td>250000.0</td>\n",
       "      <td>46000.0</td>\n",
       "      <td>Petrol</td>\n",
       "      <td>Individual</td>\n",
       "      <td>Manual</td>\n",
       "      <td>First Owner</td>\n",
       "      <td>Datsun</td>\n",
       "      <td>RediGO</td>\n",
       "      <td>125</td>\n",
       "    </tr>\n",
       "    <tr>\n",
       "      <th>4</th>\n",
       "      <td>2014</td>\n",
       "      <td>450000.0</td>\n",
       "      <td>141000.0</td>\n",
       "      <td>Diesel</td>\n",
       "      <td>Individual</td>\n",
       "      <td>Manual</td>\n",
       "      <td>Second Owner</td>\n",
       "      <td>Honda</td>\n",
       "      <td>Amaze</td>\n",
       "      <td>17</td>\n",
       "    </tr>\n",
       "  </tbody>\n",
       "</table>\n",
       "</div>"
      ],
      "text/plain": [
       "   year  selling_price  km_driven    fuel seller_type transmission  \\\n",
       "0  2007        60000.0    70000.0  Petrol  Individual       Manual   \n",
       "1  2007       135000.0    50000.0  Petrol  Individual       Manual   \n",
       "2  2012       600000.0   100000.0  Diesel  Individual       Manual   \n",
       "3  2017       250000.0    46000.0  Petrol  Individual       Manual   \n",
       "4  2014       450000.0   141000.0  Diesel  Individual       Manual   \n",
       "\n",
       "          owner    brand   model  model_enc  \n",
       "0   First Owner   Maruti     800          6  \n",
       "1   First Owner   Maruti   Wagon        164  \n",
       "2   First Owner  Hyundai   Verna        161  \n",
       "3   First Owner   Datsun  RediGO        125  \n",
       "4  Second Owner    Honda   Amaze         17  "
      ]
     },
     "execution_count": 34,
     "metadata": {},
     "output_type": "execute_result"
    }
   ],
   "source": [
    "df.drop(['sub_class'],axis=1,inplace=True)\n",
    "df.head()"
   ]
  },
  {
   "cell_type": "code",
   "execution_count": 35,
   "id": "873f5a9f",
   "metadata": {},
   "outputs": [
    {
     "data": {
      "text/html": [
       "<div>\n",
       "<style scoped>\n",
       "    .dataframe tbody tr th:only-of-type {\n",
       "        vertical-align: middle;\n",
       "    }\n",
       "\n",
       "    .dataframe tbody tr th {\n",
       "        vertical-align: top;\n",
       "    }\n",
       "\n",
       "    .dataframe thead th {\n",
       "        text-align: right;\n",
       "    }\n",
       "</style>\n",
       "<table border=\"1\" class=\"dataframe\">\n",
       "  <thead>\n",
       "    <tr style=\"text-align: right;\">\n",
       "      <th></th>\n",
       "      <th>year</th>\n",
       "      <th>selling_price</th>\n",
       "      <th>km_driven</th>\n",
       "      <th>fuel</th>\n",
       "      <th>seller_type</th>\n",
       "      <th>transmission</th>\n",
       "      <th>owner</th>\n",
       "      <th>brand</th>\n",
       "      <th>model_enc</th>\n",
       "    </tr>\n",
       "  </thead>\n",
       "  <tbody>\n",
       "    <tr>\n",
       "      <th>0</th>\n",
       "      <td>2007</td>\n",
       "      <td>60000.0</td>\n",
       "      <td>70000.0</td>\n",
       "      <td>Petrol</td>\n",
       "      <td>Individual</td>\n",
       "      <td>Manual</td>\n",
       "      <td>First Owner</td>\n",
       "      <td>Maruti</td>\n",
       "      <td>6</td>\n",
       "    </tr>\n",
       "    <tr>\n",
       "      <th>1</th>\n",
       "      <td>2007</td>\n",
       "      <td>135000.0</td>\n",
       "      <td>50000.0</td>\n",
       "      <td>Petrol</td>\n",
       "      <td>Individual</td>\n",
       "      <td>Manual</td>\n",
       "      <td>First Owner</td>\n",
       "      <td>Maruti</td>\n",
       "      <td>164</td>\n",
       "    </tr>\n",
       "    <tr>\n",
       "      <th>2</th>\n",
       "      <td>2012</td>\n",
       "      <td>600000.0</td>\n",
       "      <td>100000.0</td>\n",
       "      <td>Diesel</td>\n",
       "      <td>Individual</td>\n",
       "      <td>Manual</td>\n",
       "      <td>First Owner</td>\n",
       "      <td>Hyundai</td>\n",
       "      <td>161</td>\n",
       "    </tr>\n",
       "    <tr>\n",
       "      <th>3</th>\n",
       "      <td>2017</td>\n",
       "      <td>250000.0</td>\n",
       "      <td>46000.0</td>\n",
       "      <td>Petrol</td>\n",
       "      <td>Individual</td>\n",
       "      <td>Manual</td>\n",
       "      <td>First Owner</td>\n",
       "      <td>Datsun</td>\n",
       "      <td>125</td>\n",
       "    </tr>\n",
       "    <tr>\n",
       "      <th>4</th>\n",
       "      <td>2014</td>\n",
       "      <td>450000.0</td>\n",
       "      <td>141000.0</td>\n",
       "      <td>Diesel</td>\n",
       "      <td>Individual</td>\n",
       "      <td>Manual</td>\n",
       "      <td>Second Owner</td>\n",
       "      <td>Honda</td>\n",
       "      <td>17</td>\n",
       "    </tr>\n",
       "  </tbody>\n",
       "</table>\n",
       "</div>"
      ],
      "text/plain": [
       "   year  selling_price  km_driven    fuel seller_type transmission  \\\n",
       "0  2007        60000.0    70000.0  Petrol  Individual       Manual   \n",
       "1  2007       135000.0    50000.0  Petrol  Individual       Manual   \n",
       "2  2012       600000.0   100000.0  Diesel  Individual       Manual   \n",
       "3  2017       250000.0    46000.0  Petrol  Individual       Manual   \n",
       "4  2014       450000.0   141000.0  Diesel  Individual       Manual   \n",
       "\n",
       "          owner    brand  model_enc  \n",
       "0   First Owner   Maruti          6  \n",
       "1   First Owner   Maruti        164  \n",
       "2   First Owner  Hyundai        161  \n",
       "3   First Owner   Datsun        125  \n",
       "4  Second Owner    Honda         17  "
      ]
     },
     "execution_count": 35,
     "metadata": {},
     "output_type": "execute_result"
    }
   ],
   "source": [
    "    df.drop(['model'],axis=1,inplace=True)\n",
    "df.head()"
   ]
  },
  {
   "cell_type": "markdown",
   "id": "5564f798",
   "metadata": {},
   "source": [
    "### Applying one hot encoding for data"
   ]
  },
  {
   "cell_type": "code",
   "execution_count": 36,
   "id": "0aa189a4",
   "metadata": {},
   "outputs": [
    {
     "data": {
      "text/html": [
       "<div>\n",
       "<style scoped>\n",
       "    .dataframe tbody tr th:only-of-type {\n",
       "        vertical-align: middle;\n",
       "    }\n",
       "\n",
       "    .dataframe tbody tr th {\n",
       "        vertical-align: top;\n",
       "    }\n",
       "\n",
       "    .dataframe thead th {\n",
       "        text-align: right;\n",
       "    }\n",
       "</style>\n",
       "<table border=\"1\" class=\"dataframe\">\n",
       "  <thead>\n",
       "    <tr style=\"text-align: right;\">\n",
       "      <th></th>\n",
       "      <th>year</th>\n",
       "      <th>selling_price</th>\n",
       "      <th>km_driven</th>\n",
       "      <th>model_enc</th>\n",
       "      <th>fuel_CNG</th>\n",
       "      <th>fuel_Diesel</th>\n",
       "      <th>fuel_Electric</th>\n",
       "      <th>fuel_LPG</th>\n",
       "      <th>fuel_Petrol</th>\n",
       "      <th>seller_type_Dealer</th>\n",
       "      <th>...</th>\n",
       "      <th>brand_Mercedes-Benz</th>\n",
       "      <th>brand_Mitsubishi</th>\n",
       "      <th>brand_Nissan</th>\n",
       "      <th>brand_OpelCorsa</th>\n",
       "      <th>brand_Renault</th>\n",
       "      <th>brand_Skoda</th>\n",
       "      <th>brand_Tata</th>\n",
       "      <th>brand_Toyota</th>\n",
       "      <th>brand_Volkswagen</th>\n",
       "      <th>brand_Volvo</th>\n",
       "    </tr>\n",
       "  </thead>\n",
       "  <tbody>\n",
       "    <tr>\n",
       "      <th>0</th>\n",
       "      <td>2007</td>\n",
       "      <td>60000.0</td>\n",
       "      <td>70000.0</td>\n",
       "      <td>6</td>\n",
       "      <td>0</td>\n",
       "      <td>0</td>\n",
       "      <td>0</td>\n",
       "      <td>0</td>\n",
       "      <td>1</td>\n",
       "      <td>0</td>\n",
       "      <td>...</td>\n",
       "      <td>0</td>\n",
       "      <td>0</td>\n",
       "      <td>0</td>\n",
       "      <td>0</td>\n",
       "      <td>0</td>\n",
       "      <td>0</td>\n",
       "      <td>0</td>\n",
       "      <td>0</td>\n",
       "      <td>0</td>\n",
       "      <td>0</td>\n",
       "    </tr>\n",
       "    <tr>\n",
       "      <th>1</th>\n",
       "      <td>2007</td>\n",
       "      <td>135000.0</td>\n",
       "      <td>50000.0</td>\n",
       "      <td>164</td>\n",
       "      <td>0</td>\n",
       "      <td>0</td>\n",
       "      <td>0</td>\n",
       "      <td>0</td>\n",
       "      <td>1</td>\n",
       "      <td>0</td>\n",
       "      <td>...</td>\n",
       "      <td>0</td>\n",
       "      <td>0</td>\n",
       "      <td>0</td>\n",
       "      <td>0</td>\n",
       "      <td>0</td>\n",
       "      <td>0</td>\n",
       "      <td>0</td>\n",
       "      <td>0</td>\n",
       "      <td>0</td>\n",
       "      <td>0</td>\n",
       "    </tr>\n",
       "    <tr>\n",
       "      <th>2</th>\n",
       "      <td>2012</td>\n",
       "      <td>600000.0</td>\n",
       "      <td>100000.0</td>\n",
       "      <td>161</td>\n",
       "      <td>0</td>\n",
       "      <td>1</td>\n",
       "      <td>0</td>\n",
       "      <td>0</td>\n",
       "      <td>0</td>\n",
       "      <td>0</td>\n",
       "      <td>...</td>\n",
       "      <td>0</td>\n",
       "      <td>0</td>\n",
       "      <td>0</td>\n",
       "      <td>0</td>\n",
       "      <td>0</td>\n",
       "      <td>0</td>\n",
       "      <td>0</td>\n",
       "      <td>0</td>\n",
       "      <td>0</td>\n",
       "      <td>0</td>\n",
       "    </tr>\n",
       "    <tr>\n",
       "      <th>3</th>\n",
       "      <td>2017</td>\n",
       "      <td>250000.0</td>\n",
       "      <td>46000.0</td>\n",
       "      <td>125</td>\n",
       "      <td>0</td>\n",
       "      <td>0</td>\n",
       "      <td>0</td>\n",
       "      <td>0</td>\n",
       "      <td>1</td>\n",
       "      <td>0</td>\n",
       "      <td>...</td>\n",
       "      <td>0</td>\n",
       "      <td>0</td>\n",
       "      <td>0</td>\n",
       "      <td>0</td>\n",
       "      <td>0</td>\n",
       "      <td>0</td>\n",
       "      <td>0</td>\n",
       "      <td>0</td>\n",
       "      <td>0</td>\n",
       "      <td>0</td>\n",
       "    </tr>\n",
       "    <tr>\n",
       "      <th>4</th>\n",
       "      <td>2014</td>\n",
       "      <td>450000.0</td>\n",
       "      <td>141000.0</td>\n",
       "      <td>17</td>\n",
       "      <td>0</td>\n",
       "      <td>1</td>\n",
       "      <td>0</td>\n",
       "      <td>0</td>\n",
       "      <td>0</td>\n",
       "      <td>0</td>\n",
       "      <td>...</td>\n",
       "      <td>0</td>\n",
       "      <td>0</td>\n",
       "      <td>0</td>\n",
       "      <td>0</td>\n",
       "      <td>0</td>\n",
       "      <td>0</td>\n",
       "      <td>0</td>\n",
       "      <td>0</td>\n",
       "      <td>0</td>\n",
       "      <td>0</td>\n",
       "    </tr>\n",
       "  </tbody>\n",
       "</table>\n",
       "<p>5 rows × 48 columns</p>\n",
       "</div>"
      ],
      "text/plain": [
       "   year  selling_price  km_driven  model_enc  fuel_CNG  fuel_Diesel  \\\n",
       "0  2007        60000.0    70000.0          6         0            0   \n",
       "1  2007       135000.0    50000.0        164         0            0   \n",
       "2  2012       600000.0   100000.0        161         0            1   \n",
       "3  2017       250000.0    46000.0        125         0            0   \n",
       "4  2014       450000.0   141000.0         17         0            1   \n",
       "\n",
       "   fuel_Electric  fuel_LPG  fuel_Petrol  seller_type_Dealer  ...  \\\n",
       "0              0         0            1                   0  ...   \n",
       "1              0         0            1                   0  ...   \n",
       "2              0         0            0                   0  ...   \n",
       "3              0         0            1                   0  ...   \n",
       "4              0         0            0                   0  ...   \n",
       "\n",
       "   brand_Mercedes-Benz  brand_Mitsubishi  brand_Nissan  brand_OpelCorsa  \\\n",
       "0                    0                 0             0                0   \n",
       "1                    0                 0             0                0   \n",
       "2                    0                 0             0                0   \n",
       "3                    0                 0             0                0   \n",
       "4                    0                 0             0                0   \n",
       "\n",
       "   brand_Renault  brand_Skoda  brand_Tata  brand_Toyota  brand_Volkswagen  \\\n",
       "0              0            0           0             0                 0   \n",
       "1              0            0           0             0                 0   \n",
       "2              0            0           0             0                 0   \n",
       "3              0            0           0             0                 0   \n",
       "4              0            0           0             0                 0   \n",
       "\n",
       "   brand_Volvo  \n",
       "0            0  \n",
       "1            0  \n",
       "2            0  \n",
       "3            0  \n",
       "4            0  \n",
       "\n",
       "[5 rows x 48 columns]"
      ]
     },
     "execution_count": 36,
     "metadata": {},
     "output_type": "execute_result"
    }
   ],
   "source": [
    "df_encoded=pd.get_dummies(df)\n",
    "df_encoded.head()"
   ]
  },
  {
   "cell_type": "code",
   "execution_count": 37,
   "id": "30cf516d",
   "metadata": {},
   "outputs": [
    {
     "data": {
      "text/plain": [
       "(3577, 48)"
      ]
     },
     "execution_count": 37,
     "metadata": {},
     "output_type": "execute_result"
    }
   ],
   "source": [
    "df_encoded.shape"
   ]
  },
  {
   "cell_type": "code",
   "execution_count": 38,
   "id": "4b7b1a34",
   "metadata": {},
   "outputs": [
    {
     "data": {
      "text/plain": [
       "Index(['year', 'selling_price', 'km_driven', 'fuel', 'seller_type',\n",
       "       'transmission', 'owner', 'brand', 'model_enc'],\n",
       "      dtype='object')"
      ]
     },
     "execution_count": 38,
     "metadata": {},
     "output_type": "execute_result"
    }
   ],
   "source": [
    "df.columns"
   ]
  },
  {
   "cell_type": "code",
   "execution_count": null,
   "id": "0b4a25e3",
   "metadata": {},
   "outputs": [],
   "source": []
  },
  {
   "cell_type": "code",
   "execution_count": 39,
   "id": "d724af4c",
   "metadata": {},
   "outputs": [
    {
     "data": {
      "text/plain": [
       "Index(['year', 'selling_price', 'km_driven', 'model_enc', 'fuel_CNG',\n",
       "       'fuel_Diesel', 'fuel_Electric', 'fuel_LPG', 'fuel_Petrol',\n",
       "       'seller_type_Dealer', 'seller_type_Individual',\n",
       "       'seller_type_Trustmark Dealer', 'transmission_Automatic',\n",
       "       'transmission_Manual', 'owner_First Owner',\n",
       "       'owner_Fourth & Above Owner', 'owner_Second Owner',\n",
       "       'owner_Test Drive Car', 'owner_Third Owner', 'brand_Ambassador',\n",
       "       'brand_Audi', 'brand_BMW', 'brand_Chevrolet', 'brand_Daewoo',\n",
       "       'brand_Datsun', 'brand_Fiat', 'brand_Force', 'brand_Ford',\n",
       "       'brand_Honda', 'brand_Hyundai', 'brand_Isuzu', 'brand_Jaguar',\n",
       "       'brand_Jeep', 'brand_Kia', 'brand_Land', 'brand_MG', 'brand_Mahindra',\n",
       "       'brand_Maruti', 'brand_Mercedes-Benz', 'brand_Mitsubishi',\n",
       "       'brand_Nissan', 'brand_OpelCorsa', 'brand_Renault', 'brand_Skoda',\n",
       "       'brand_Tata', 'brand_Toyota', 'brand_Volkswagen', 'brand_Volvo'],\n",
       "      dtype='object')"
      ]
     },
     "execution_count": 39,
     "metadata": {},
     "output_type": "execute_result"
    }
   ],
   "source": [
    "df_encoded.columns"
   ]
  },
  {
   "cell_type": "code",
   "execution_count": null,
   "id": "5ab8e497",
   "metadata": {},
   "outputs": [],
   "source": []
  },
  {
   "cell_type": "code",
   "execution_count": 40,
   "id": "8d8f6833",
   "metadata": {},
   "outputs": [
    {
     "data": {
      "text/plain": [
       "Index(['year', 'selling_price', 'km_driven', 'fuel', 'seller_type',\n",
       "       'transmission', 'owner', 'brand', 'model_enc'],\n",
       "      dtype='object')"
      ]
     },
     "execution_count": 40,
     "metadata": {},
     "output_type": "execute_result"
    }
   ],
   "source": [
    "df.columns"
   ]
  },
  {
   "cell_type": "markdown",
   "id": "eda63bed",
   "metadata": {},
   "source": [
    "### Feature selecting"
   ]
  },
  {
   "cell_type": "code",
   "execution_count": 41,
   "id": "077aec62",
   "metadata": {},
   "outputs": [
    {
     "name": "stdout",
     "output_type": "stream",
     "text": [
      "(3577, 47)\n",
      "(3577,)\n"
     ]
    }
   ],
   "source": [
    "x=df_encoded.drop('selling_price',axis=1)\n",
    "y=df_encoded['selling_price']\n",
    "print(x.shape)\n",
    "print(y.shape)"
   ]
  },
  {
   "cell_type": "markdown",
   "id": "f91a5ac2",
   "metadata": {},
   "source": [
    "### Model Evaluation"
   ]
  },
  {
   "cell_type": "code",
   "execution_count": 42,
   "id": "8954bdac",
   "metadata": {},
   "outputs": [],
   "source": [
    "from sklearn.metrics import *"
   ]
  },
  {
   "cell_type": "code",
   "execution_count": 43,
   "id": "88e0432c",
   "metadata": {},
   "outputs": [],
   "source": [
    "def model_eval(x_train,x_test,y_train,y_test,model,mname):\n",
    "    model.fit(x_train,y_train)\n",
    "    ypred=model.predict(x_test)\n",
    "    mae=mean_absolute_error(y_test,ypred)\n",
    "    mse=mean_squared_error(y_test,ypred)\n",
    "    rmse=np.sqrt(mse)\n",
    "    train_scr=model.score(x_train,y_train)\n",
    "    test_scr=model.score(x_test,y_test)\n",
    "    res=pd.DataFrame({\"Train_scr\":train_scr,\"Test_scr\":test_scr,'RMSE':rmse,'MSE':mse,\n",
    "                    \"MAE\":mae},index=[mname])\n",
    "    return res\n",
    "    \n",
    "def mscore(model):\n",
    "    train_scr=model.score(x_train,y_train)\n",
    "    test_scr=model.score(x_test,y_test)\n",
    "    print(\"Training Score\",train_scr)\n",
    "    print(\"Testing Score\",test_scr)\n"
   ]
  },
  {
   "cell_type": "code",
   "execution_count": 44,
   "id": "b71a4432",
   "metadata": {},
   "outputs": [],
   "source": [
    "from sklearn.model_selection import train_test_split\n",
    "from sklearn.preprocessing import StandardScaler"
   ]
  },
  {
   "cell_type": "code",
   "execution_count": 45,
   "id": "880741f9",
   "metadata": {},
   "outputs": [
    {
     "data": {
      "text/html": [
       "<div>\n",
       "<style scoped>\n",
       "    .dataframe tbody tr th:only-of-type {\n",
       "        vertical-align: middle;\n",
       "    }\n",
       "\n",
       "    .dataframe tbody tr th {\n",
       "        vertical-align: top;\n",
       "    }\n",
       "\n",
       "    .dataframe thead th {\n",
       "        text-align: right;\n",
       "    }\n",
       "</style>\n",
       "<table border=\"1\" class=\"dataframe\">\n",
       "  <thead>\n",
       "    <tr style=\"text-align: right;\">\n",
       "      <th></th>\n",
       "      <th>year</th>\n",
       "      <th>km_driven</th>\n",
       "      <th>model_enc</th>\n",
       "      <th>fuel_CNG</th>\n",
       "      <th>fuel_Diesel</th>\n",
       "      <th>fuel_Electric</th>\n",
       "      <th>fuel_LPG</th>\n",
       "      <th>fuel_Petrol</th>\n",
       "      <th>seller_type_Dealer</th>\n",
       "      <th>seller_type_Individual</th>\n",
       "      <th>...</th>\n",
       "      <th>brand_Mercedes-Benz</th>\n",
       "      <th>brand_Mitsubishi</th>\n",
       "      <th>brand_Nissan</th>\n",
       "      <th>brand_OpelCorsa</th>\n",
       "      <th>brand_Renault</th>\n",
       "      <th>brand_Skoda</th>\n",
       "      <th>brand_Tata</th>\n",
       "      <th>brand_Toyota</th>\n",
       "      <th>brand_Volkswagen</th>\n",
       "      <th>brand_Volvo</th>\n",
       "    </tr>\n",
       "  </thead>\n",
       "  <tbody>\n",
       "    <tr>\n",
       "      <th>0</th>\n",
       "      <td>2007</td>\n",
       "      <td>70000.0</td>\n",
       "      <td>6</td>\n",
       "      <td>0</td>\n",
       "      <td>0</td>\n",
       "      <td>0</td>\n",
       "      <td>0</td>\n",
       "      <td>1</td>\n",
       "      <td>0</td>\n",
       "      <td>1</td>\n",
       "      <td>...</td>\n",
       "      <td>0</td>\n",
       "      <td>0</td>\n",
       "      <td>0</td>\n",
       "      <td>0</td>\n",
       "      <td>0</td>\n",
       "      <td>0</td>\n",
       "      <td>0</td>\n",
       "      <td>0</td>\n",
       "      <td>0</td>\n",
       "      <td>0</td>\n",
       "    </tr>\n",
       "    <tr>\n",
       "      <th>1</th>\n",
       "      <td>2007</td>\n",
       "      <td>50000.0</td>\n",
       "      <td>164</td>\n",
       "      <td>0</td>\n",
       "      <td>0</td>\n",
       "      <td>0</td>\n",
       "      <td>0</td>\n",
       "      <td>1</td>\n",
       "      <td>0</td>\n",
       "      <td>1</td>\n",
       "      <td>...</td>\n",
       "      <td>0</td>\n",
       "      <td>0</td>\n",
       "      <td>0</td>\n",
       "      <td>0</td>\n",
       "      <td>0</td>\n",
       "      <td>0</td>\n",
       "      <td>0</td>\n",
       "      <td>0</td>\n",
       "      <td>0</td>\n",
       "      <td>0</td>\n",
       "    </tr>\n",
       "    <tr>\n",
       "      <th>2</th>\n",
       "      <td>2012</td>\n",
       "      <td>100000.0</td>\n",
       "      <td>161</td>\n",
       "      <td>0</td>\n",
       "      <td>1</td>\n",
       "      <td>0</td>\n",
       "      <td>0</td>\n",
       "      <td>0</td>\n",
       "      <td>0</td>\n",
       "      <td>1</td>\n",
       "      <td>...</td>\n",
       "      <td>0</td>\n",
       "      <td>0</td>\n",
       "      <td>0</td>\n",
       "      <td>0</td>\n",
       "      <td>0</td>\n",
       "      <td>0</td>\n",
       "      <td>0</td>\n",
       "      <td>0</td>\n",
       "      <td>0</td>\n",
       "      <td>0</td>\n",
       "    </tr>\n",
       "    <tr>\n",
       "      <th>3</th>\n",
       "      <td>2017</td>\n",
       "      <td>46000.0</td>\n",
       "      <td>125</td>\n",
       "      <td>0</td>\n",
       "      <td>0</td>\n",
       "      <td>0</td>\n",
       "      <td>0</td>\n",
       "      <td>1</td>\n",
       "      <td>0</td>\n",
       "      <td>1</td>\n",
       "      <td>...</td>\n",
       "      <td>0</td>\n",
       "      <td>0</td>\n",
       "      <td>0</td>\n",
       "      <td>0</td>\n",
       "      <td>0</td>\n",
       "      <td>0</td>\n",
       "      <td>0</td>\n",
       "      <td>0</td>\n",
       "      <td>0</td>\n",
       "      <td>0</td>\n",
       "    </tr>\n",
       "    <tr>\n",
       "      <th>4</th>\n",
       "      <td>2014</td>\n",
       "      <td>141000.0</td>\n",
       "      <td>17</td>\n",
       "      <td>0</td>\n",
       "      <td>1</td>\n",
       "      <td>0</td>\n",
       "      <td>0</td>\n",
       "      <td>0</td>\n",
       "      <td>0</td>\n",
       "      <td>1</td>\n",
       "      <td>...</td>\n",
       "      <td>0</td>\n",
       "      <td>0</td>\n",
       "      <td>0</td>\n",
       "      <td>0</td>\n",
       "      <td>0</td>\n",
       "      <td>0</td>\n",
       "      <td>0</td>\n",
       "      <td>0</td>\n",
       "      <td>0</td>\n",
       "      <td>0</td>\n",
       "    </tr>\n",
       "  </tbody>\n",
       "</table>\n",
       "<p>5 rows × 47 columns</p>\n",
       "</div>"
      ],
      "text/plain": [
       "   year  km_driven  model_enc  fuel_CNG  fuel_Diesel  fuel_Electric  fuel_LPG  \\\n",
       "0  2007    70000.0          6         0            0              0         0   \n",
       "1  2007    50000.0        164         0            0              0         0   \n",
       "2  2012   100000.0        161         0            1              0         0   \n",
       "3  2017    46000.0        125         0            0              0         0   \n",
       "4  2014   141000.0         17         0            1              0         0   \n",
       "\n",
       "   fuel_Petrol  seller_type_Dealer  seller_type_Individual  ...  \\\n",
       "0            1                   0                       1  ...   \n",
       "1            1                   0                       1  ...   \n",
       "2            0                   0                       1  ...   \n",
       "3            1                   0                       1  ...   \n",
       "4            0                   0                       1  ...   \n",
       "\n",
       "   brand_Mercedes-Benz  brand_Mitsubishi  brand_Nissan  brand_OpelCorsa  \\\n",
       "0                    0                 0             0                0   \n",
       "1                    0                 0             0                0   \n",
       "2                    0                 0             0                0   \n",
       "3                    0                 0             0                0   \n",
       "4                    0                 0             0                0   \n",
       "\n",
       "   brand_Renault  brand_Skoda  brand_Tata  brand_Toyota  brand_Volkswagen  \\\n",
       "0              0            0           0             0                 0   \n",
       "1              0            0           0             0                 0   \n",
       "2              0            0           0             0                 0   \n",
       "3              0            0           0             0                 0   \n",
       "4              0            0           0             0                 0   \n",
       "\n",
       "   brand_Volvo  \n",
       "0            0  \n",
       "1            0  \n",
       "2            0  \n",
       "3            0  \n",
       "4            0  \n",
       "\n",
       "[5 rows x 47 columns]"
      ]
     },
     "execution_count": 45,
     "metadata": {},
     "output_type": "execute_result"
    }
   ],
   "source": [
    "x.head()"
   ]
  },
  {
   "cell_type": "code",
   "execution_count": 46,
   "id": "02acb1a6",
   "metadata": {},
   "outputs": [
    {
     "name": "stdout",
     "output_type": "stream",
     "text": [
      "(2682, 47)\n",
      "(895, 47)\n",
      "(2682,)\n",
      "(895,)\n"
     ]
    }
   ],
   "source": [
    "x_train,x_test,y_train,y_test=train_test_split(x,y,test_size=0.25,random_state=30)\n",
    "print(x_train.shape)\n",
    "print(x_test.shape)\n",
    "print(y_train.shape)\n",
    "print(y_test.shape)"
   ]
  },
  {
   "cell_type": "code",
   "execution_count": 47,
   "id": "18958817",
   "metadata": {},
   "outputs": [
    {
     "name": "stdout",
     "output_type": "stream",
     "text": [
      "Index(['year', 'km_driven', 'model_enc', 'fuel_CNG', 'fuel_Diesel',\n",
      "       'fuel_Electric', 'fuel_LPG', 'fuel_Petrol', 'seller_type_Dealer',\n",
      "       'seller_type_Individual', 'seller_type_Trustmark Dealer',\n",
      "       'transmission_Automatic', 'transmission_Manual', 'owner_First Owner',\n",
      "       'owner_Fourth & Above Owner', 'owner_Second Owner',\n",
      "       'owner_Test Drive Car', 'owner_Third Owner', 'brand_Ambassador',\n",
      "       'brand_Audi', 'brand_BMW', 'brand_Chevrolet', 'brand_Daewoo',\n",
      "       'brand_Datsun', 'brand_Fiat', 'brand_Force', 'brand_Ford',\n",
      "       'brand_Honda', 'brand_Hyundai', 'brand_Isuzu', 'brand_Jaguar',\n",
      "       'brand_Jeep', 'brand_Kia', 'brand_Land', 'brand_MG', 'brand_Mahindra',\n",
      "       'brand_Maruti', 'brand_Mercedes-Benz', 'brand_Mitsubishi',\n",
      "       'brand_Nissan', 'brand_OpelCorsa', 'brand_Renault', 'brand_Skoda',\n",
      "       'brand_Tata', 'brand_Toyota', 'brand_Volkswagen', 'brand_Volvo'],\n",
      "      dtype='object')\n"
     ]
    }
   ],
   "source": [
    "print(x.columns)"
   ]
  },
  {
   "cell_type": "code",
   "execution_count": 48,
   "id": "3d9f53f6",
   "metadata": {},
   "outputs": [],
   "source": [
    "from sklearn.linear_model import LinearRegression,Lasso,Ridge\n",
    "from sklearn.tree import DecisionTreeRegressor\n",
    "from sklearn.ensemble import RandomForestRegressor,BaggingRegressor,AdaBoostRegressor\n",
    "from sklearn.neighbors import KNeighborsRegressor"
   ]
  },
  {
   "cell_type": "markdown",
   "id": "bb760b70",
   "metadata": {},
   "source": [
    "### Linear Regression"
   ]
  },
  {
   "cell_type": "code",
   "execution_count": 49,
   "id": "83f82690",
   "metadata": {},
   "outputs": [
    {
     "data": {
      "text/html": [
       "<div>\n",
       "<style scoped>\n",
       "    .dataframe tbody tr th:only-of-type {\n",
       "        vertical-align: middle;\n",
       "    }\n",
       "\n",
       "    .dataframe tbody tr th {\n",
       "        vertical-align: top;\n",
       "    }\n",
       "\n",
       "    .dataframe thead th {\n",
       "        text-align: right;\n",
       "    }\n",
       "</style>\n",
       "<table border=\"1\" class=\"dataframe\">\n",
       "  <thead>\n",
       "    <tr style=\"text-align: right;\">\n",
       "      <th></th>\n",
       "      <th>Train_scr</th>\n",
       "      <th>Test_scr</th>\n",
       "      <th>RMSE</th>\n",
       "      <th>MSE</th>\n",
       "      <th>MAE</th>\n",
       "    </tr>\n",
       "  </thead>\n",
       "  <tbody>\n",
       "    <tr>\n",
       "      <th>Linear</th>\n",
       "      <td>0.722476</td>\n",
       "      <td>0.675555</td>\n",
       "      <td>238241.229202</td>\n",
       "      <td>5.675888e+10</td>\n",
       "      <td>159968.297567</td>\n",
       "    </tr>\n",
       "  </tbody>\n",
       "</table>\n",
       "</div>"
      ],
      "text/plain": [
       "        Train_scr  Test_scr           RMSE           MSE            MAE\n",
       "Linear   0.722476  0.675555  238241.229202  5.675888e+10  159968.297567"
      ]
     },
     "execution_count": 49,
     "metadata": {},
     "output_type": "execute_result"
    }
   ],
   "source": [
    "lg=LinearRegression()\n",
    "lg_res=model_eval(x_train,x_test,y_train,y_test,lg,\"Linear\")\n",
    "lg_res"
   ]
  },
  {
   "cell_type": "markdown",
   "id": "e3c4be25",
   "metadata": {},
   "source": [
    "### Ridge Regression"
   ]
  },
  {
   "cell_type": "code",
   "execution_count": 50,
   "id": "6c403b32",
   "metadata": {},
   "outputs": [
    {
     "data": {
      "text/html": [
       "<div>\n",
       "<style scoped>\n",
       "    .dataframe tbody tr th:only-of-type {\n",
       "        vertical-align: middle;\n",
       "    }\n",
       "\n",
       "    .dataframe tbody tr th {\n",
       "        vertical-align: top;\n",
       "    }\n",
       "\n",
       "    .dataframe thead th {\n",
       "        text-align: right;\n",
       "    }\n",
       "</style>\n",
       "<table border=\"1\" class=\"dataframe\">\n",
       "  <thead>\n",
       "    <tr style=\"text-align: right;\">\n",
       "      <th></th>\n",
       "      <th>Train_scr</th>\n",
       "      <th>Test_scr</th>\n",
       "      <th>RMSE</th>\n",
       "      <th>MSE</th>\n",
       "      <th>MAE</th>\n",
       "    </tr>\n",
       "  </thead>\n",
       "  <tbody>\n",
       "    <tr>\n",
       "      <th>Ridge</th>\n",
       "      <td>0.720755</td>\n",
       "      <td>0.675585</td>\n",
       "      <td>238230.370383</td>\n",
       "      <td>5.675371e+10</td>\n",
       "      <td>160653.456343</td>\n",
       "    </tr>\n",
       "  </tbody>\n",
       "</table>\n",
       "</div>"
      ],
      "text/plain": [
       "       Train_scr  Test_scr           RMSE           MSE            MAE\n",
       "Ridge   0.720755  0.675585  238230.370383  5.675371e+10  160653.456343"
      ]
     },
     "execution_count": 50,
     "metadata": {},
     "output_type": "execute_result"
    }
   ],
   "source": [
    "rd=Ridge(0.75)\n",
    "rd_res=model_eval(x_train,x_test,y_train,y_test,rd,\"Ridge\")\n",
    "rd_res"
   ]
  },
  {
   "cell_type": "markdown",
   "id": "870d3197",
   "metadata": {},
   "source": [
    "### Lasso"
   ]
  },
  {
   "cell_type": "code",
   "execution_count": 51,
   "id": "d88bfe21",
   "metadata": {},
   "outputs": [
    {
     "data": {
      "text/html": [
       "<div>\n",
       "<style scoped>\n",
       "    .dataframe tbody tr th:only-of-type {\n",
       "        vertical-align: middle;\n",
       "    }\n",
       "\n",
       "    .dataframe tbody tr th {\n",
       "        vertical-align: top;\n",
       "    }\n",
       "\n",
       "    .dataframe thead th {\n",
       "        text-align: right;\n",
       "    }\n",
       "</style>\n",
       "<table border=\"1\" class=\"dataframe\">\n",
       "  <thead>\n",
       "    <tr style=\"text-align: right;\">\n",
       "      <th></th>\n",
       "      <th>Train_scr</th>\n",
       "      <th>Test_scr</th>\n",
       "      <th>RMSE</th>\n",
       "      <th>MSE</th>\n",
       "      <th>MAE</th>\n",
       "    </tr>\n",
       "  </thead>\n",
       "  <tbody>\n",
       "    <tr>\n",
       "      <th>Lasso</th>\n",
       "      <td>0.720755</td>\n",
       "      <td>0.675585</td>\n",
       "      <td>238230.370383</td>\n",
       "      <td>5.675371e+10</td>\n",
       "      <td>160653.456343</td>\n",
       "    </tr>\n",
       "  </tbody>\n",
       "</table>\n",
       "</div>"
      ],
      "text/plain": [
       "       Train_scr  Test_scr           RMSE           MSE            MAE\n",
       "Lasso   0.720755  0.675585  238230.370383  5.675371e+10  160653.456343"
      ]
     },
     "execution_count": 51,
     "metadata": {},
     "output_type": "execute_result"
    }
   ],
   "source": [
    "ls=Lasso(alpha=0.8)\n",
    "ls_res=model_eval(x_train,x_test,y_train,y_test,rd,\"Lasso\")\n",
    "ls_res"
   ]
  },
  {
   "cell_type": "markdown",
   "id": "4481a008",
   "metadata": {},
   "source": [
    "### DecisionTreeRegressor"
   ]
  },
  {
   "cell_type": "code",
   "execution_count": 52,
   "id": "9154f9a9",
   "metadata": {},
   "outputs": [
    {
     "data": {
      "text/html": [
       "<div>\n",
       "<style scoped>\n",
       "    .dataframe tbody tr th:only-of-type {\n",
       "        vertical-align: middle;\n",
       "    }\n",
       "\n",
       "    .dataframe tbody tr th {\n",
       "        vertical-align: top;\n",
       "    }\n",
       "\n",
       "    .dataframe thead th {\n",
       "        text-align: right;\n",
       "    }\n",
       "</style>\n",
       "<table border=\"1\" class=\"dataframe\">\n",
       "  <thead>\n",
       "    <tr style=\"text-align: right;\">\n",
       "      <th></th>\n",
       "      <th>Train_scr</th>\n",
       "      <th>Test_scr</th>\n",
       "      <th>RMSE</th>\n",
       "      <th>MSE</th>\n",
       "      <th>MAE</th>\n",
       "    </tr>\n",
       "  </thead>\n",
       "  <tbody>\n",
       "    <tr>\n",
       "      <th>Decision Tree</th>\n",
       "      <td>0.874095</td>\n",
       "      <td>0.784991</td>\n",
       "      <td>193943.167672</td>\n",
       "      <td>3.761395e+10</td>\n",
       "      <td>123314.827106</td>\n",
       "    </tr>\n",
       "  </tbody>\n",
       "</table>\n",
       "</div>"
      ],
      "text/plain": [
       "               Train_scr  Test_scr           RMSE           MSE            MAE\n",
       "Decision Tree   0.874095  0.784991  193943.167672  3.761395e+10  123314.827106"
      ]
     },
     "execution_count": 52,
     "metadata": {},
     "output_type": "execute_result"
    }
   ],
   "source": [
    "dt=DecisionTreeRegressor(max_depth=10,min_samples_split=10,random_state=40)\n",
    "dt_res=model_eval(x_train,x_test,y_train,y_test,dt,\"Decision Tree\")\n",
    "dt_res"
   ]
  },
  {
   "cell_type": "markdown",
   "id": "b74ca658",
   "metadata": {},
   "source": [
    "### BaggingRegressor for Decision Tree"
   ]
  },
  {
   "cell_type": "code",
   "execution_count": 53,
   "id": "ae1fb77a",
   "metadata": {},
   "outputs": [
    {
     "data": {
      "text/html": [
       "<div>\n",
       "<style scoped>\n",
       "    .dataframe tbody tr th:only-of-type {\n",
       "        vertical-align: middle;\n",
       "    }\n",
       "\n",
       "    .dataframe tbody tr th {\n",
       "        vertical-align: top;\n",
       "    }\n",
       "\n",
       "    .dataframe thead th {\n",
       "        text-align: right;\n",
       "    }\n",
       "</style>\n",
       "<table border=\"1\" class=\"dataframe\">\n",
       "  <thead>\n",
       "    <tr style=\"text-align: right;\">\n",
       "      <th></th>\n",
       "      <th>Train_scr</th>\n",
       "      <th>Test_scr</th>\n",
       "      <th>RMSE</th>\n",
       "      <th>MSE</th>\n",
       "      <th>MAE</th>\n",
       "    </tr>\n",
       "  </thead>\n",
       "  <tbody>\n",
       "    <tr>\n",
       "      <th>Bagging for DT</th>\n",
       "      <td>0.874095</td>\n",
       "      <td>0.784991</td>\n",
       "      <td>193943.167672</td>\n",
       "      <td>3.761395e+10</td>\n",
       "      <td>123314.827106</td>\n",
       "    </tr>\n",
       "  </tbody>\n",
       "</table>\n",
       "</div>"
      ],
      "text/plain": [
       "                Train_scr  Test_scr           RMSE           MSE  \\\n",
       "Bagging for DT   0.874095  0.784991  193943.167672  3.761395e+10   \n",
       "\n",
       "                          MAE  \n",
       "Bagging for DT  123314.827106  "
      ]
     },
     "execution_count": 53,
     "metadata": {},
     "output_type": "execute_result"
    }
   ],
   "source": [
    "bg1=BaggingRegressor(n_estimators=100,estimator=dt,max_features=x_train.shape[1],\n",
    "                        max_samples=x_train.shape[0])\n",
    "bag1_res=model_eval(x_train,x_test,y_train,y_test,dt,\"Bagging for DT\")\n",
    "bag1_res"
   ]
  },
  {
   "cell_type": "markdown",
   "id": "3e0b5b1a",
   "metadata": {},
   "source": [
    "### AdaBoostRegressor for DEcision Tree"
   ]
  },
  {
   "cell_type": "code",
   "execution_count": 54,
   "id": "f77998d1",
   "metadata": {},
   "outputs": [
    {
     "data": {
      "text/html": [
       "<div>\n",
       "<style scoped>\n",
       "    .dataframe tbody tr th:only-of-type {\n",
       "        vertical-align: middle;\n",
       "    }\n",
       "\n",
       "    .dataframe tbody tr th {\n",
       "        vertical-align: top;\n",
       "    }\n",
       "\n",
       "    .dataframe thead th {\n",
       "        text-align: right;\n",
       "    }\n",
       "</style>\n",
       "<table border=\"1\" class=\"dataframe\">\n",
       "  <thead>\n",
       "    <tr style=\"text-align: right;\">\n",
       "      <th></th>\n",
       "      <th>Train_scr</th>\n",
       "      <th>Test_scr</th>\n",
       "      <th>RMSE</th>\n",
       "      <th>MSE</th>\n",
       "      <th>MAE</th>\n",
       "    </tr>\n",
       "  </thead>\n",
       "  <tbody>\n",
       "    <tr>\n",
       "      <th>AddaBoost for DT</th>\n",
       "      <td>0.874095</td>\n",
       "      <td>0.784991</td>\n",
       "      <td>193943.167672</td>\n",
       "      <td>3.761395e+10</td>\n",
       "      <td>123314.827106</td>\n",
       "    </tr>\n",
       "  </tbody>\n",
       "</table>\n",
       "</div>"
      ],
      "text/plain": [
       "                  Train_scr  Test_scr           RMSE           MSE  \\\n",
       "AddaBoost for DT   0.874095  0.784991  193943.167672  3.761395e+10   \n",
       "\n",
       "                            MAE  \n",
       "AddaBoost for DT  123314.827106  "
      ]
     },
     "execution_count": 54,
     "metadata": {},
     "output_type": "execute_result"
    }
   ],
   "source": [
    "adboost1=AdaBoostRegressor(n_estimators=45)\n",
    "ada1_res=model_eval(x_train,x_test,y_train,y_test,dt,\"AddaBoost for DT\")\n",
    "ada1_res"
   ]
  },
  {
   "cell_type": "markdown",
   "id": "80628920",
   "metadata": {},
   "source": [
    "### RandomForestRegressor"
   ]
  },
  {
   "cell_type": "code",
   "execution_count": 55,
   "id": "5ecdde93",
   "metadata": {},
   "outputs": [
    {
     "data": {
      "text/html": [
       "<div>\n",
       "<style scoped>\n",
       "    .dataframe tbody tr th:only-of-type {\n",
       "        vertical-align: middle;\n",
       "    }\n",
       "\n",
       "    .dataframe tbody tr th {\n",
       "        vertical-align: top;\n",
       "    }\n",
       "\n",
       "    .dataframe thead th {\n",
       "        text-align: right;\n",
       "    }\n",
       "</style>\n",
       "<table border=\"1\" class=\"dataframe\">\n",
       "  <thead>\n",
       "    <tr style=\"text-align: right;\">\n",
       "      <th></th>\n",
       "      <th>Train_scr</th>\n",
       "      <th>Test_scr</th>\n",
       "      <th>RMSE</th>\n",
       "      <th>MSE</th>\n",
       "      <th>MAE</th>\n",
       "    </tr>\n",
       "  </thead>\n",
       "  <tbody>\n",
       "    <tr>\n",
       "      <th>Random Forest</th>\n",
       "      <td>0.874095</td>\n",
       "      <td>0.784991</td>\n",
       "      <td>193943.167672</td>\n",
       "      <td>3.761395e+10</td>\n",
       "      <td>123314.827106</td>\n",
       "    </tr>\n",
       "  </tbody>\n",
       "</table>\n",
       "</div>"
      ],
      "text/plain": [
       "               Train_scr  Test_scr           RMSE           MSE            MAE\n",
       "Random Forest   0.874095  0.784991  193943.167672  3.761395e+10  123314.827106"
      ]
     },
     "execution_count": 55,
     "metadata": {},
     "output_type": "execute_result"
    }
   ],
   "source": [
    "rf=RandomForestRegressor(n_estimators=60,max_depth=14,min_samples_split=7)\n",
    "rf_res=model_eval(x_train,x_test,y_train,y_test,dt,\"Random Forest\")\n",
    "rf_res"
   ]
  },
  {
   "cell_type": "markdown",
   "id": "2f575bc1",
   "metadata": {},
   "source": [
    "### BaggingRegressor for RandomForestRegressor"
   ]
  },
  {
   "cell_type": "code",
   "execution_count": 56,
   "id": "d8ebac39",
   "metadata": {},
   "outputs": [
    {
     "data": {
      "text/html": [
       "<div>\n",
       "<style scoped>\n",
       "    .dataframe tbody tr th:only-of-type {\n",
       "        vertical-align: middle;\n",
       "    }\n",
       "\n",
       "    .dataframe tbody tr th {\n",
       "        vertical-align: top;\n",
       "    }\n",
       "\n",
       "    .dataframe thead th {\n",
       "        text-align: right;\n",
       "    }\n",
       "</style>\n",
       "<table border=\"1\" class=\"dataframe\">\n",
       "  <thead>\n",
       "    <tr style=\"text-align: right;\">\n",
       "      <th></th>\n",
       "      <th>Train_scr</th>\n",
       "      <th>Test_scr</th>\n",
       "      <th>RMSE</th>\n",
       "      <th>MSE</th>\n",
       "      <th>MAE</th>\n",
       "    </tr>\n",
       "  </thead>\n",
       "  <tbody>\n",
       "    <tr>\n",
       "      <th>Bagging for RF</th>\n",
       "      <td>0.874095</td>\n",
       "      <td>0.784991</td>\n",
       "      <td>193943.167672</td>\n",
       "      <td>3.761395e+10</td>\n",
       "      <td>123314.827106</td>\n",
       "    </tr>\n",
       "  </tbody>\n",
       "</table>\n",
       "</div>"
      ],
      "text/plain": [
       "                Train_scr  Test_scr           RMSE           MSE  \\\n",
       "Bagging for RF   0.874095  0.784991  193943.167672  3.761395e+10   \n",
       "\n",
       "                          MAE  \n",
       "Bagging for RF  123314.827106  "
      ]
     },
     "execution_count": 56,
     "metadata": {},
     "output_type": "execute_result"
    }
   ],
   "source": [
    "bag2=BaggingRegressor(n_estimators=80,estimator=rf,max_features=x_train.shape[1],\n",
    "                        max_samples=x_train.shape[0])\n",
    "bag2_res=model_eval(x_train,x_test,y_train,y_test,dt,\"Bagging for RF\")\n",
    "bag2_res"
   ]
  },
  {
   "cell_type": "markdown",
   "id": "d18d4a48",
   "metadata": {},
   "source": [
    "### AdaBoostRegressor for RandomForestRegressor"
   ]
  },
  {
   "cell_type": "code",
   "execution_count": 57,
   "id": "b34ec7ad",
   "metadata": {},
   "outputs": [
    {
     "data": {
      "text/html": [
       "<div>\n",
       "<style scoped>\n",
       "    .dataframe tbody tr th:only-of-type {\n",
       "        vertical-align: middle;\n",
       "    }\n",
       "\n",
       "    .dataframe tbody tr th {\n",
       "        vertical-align: top;\n",
       "    }\n",
       "\n",
       "    .dataframe thead th {\n",
       "        text-align: right;\n",
       "    }\n",
       "</style>\n",
       "<table border=\"1\" class=\"dataframe\">\n",
       "  <thead>\n",
       "    <tr style=\"text-align: right;\">\n",
       "      <th></th>\n",
       "      <th>Train_scr</th>\n",
       "      <th>Test_scr</th>\n",
       "      <th>RMSE</th>\n",
       "      <th>MSE</th>\n",
       "      <th>MAE</th>\n",
       "    </tr>\n",
       "  </thead>\n",
       "  <tbody>\n",
       "    <tr>\n",
       "      <th>AdaBoost for RF</th>\n",
       "      <td>0.928497</td>\n",
       "      <td>0.823355</td>\n",
       "      <td>175791.476626</td>\n",
       "      <td>3.090264e+10</td>\n",
       "      <td>106933.268709</td>\n",
       "    </tr>\n",
       "  </tbody>\n",
       "</table>\n",
       "</div>"
      ],
      "text/plain": [
       "                 Train_scr  Test_scr           RMSE           MSE  \\\n",
       "AdaBoost for RF   0.928497  0.823355  175791.476626  3.090264e+10   \n",
       "\n",
       "                           MAE  \n",
       "AdaBoost for RF  106933.268709  "
      ]
     },
     "execution_count": 57,
     "metadata": {},
     "output_type": "execute_result"
    }
   ],
   "source": [
    "adaboost2=AdaBoostRegressor(n_estimators=120)\n",
    "ada2_res=model_eval(x_train,x_test,y_train,y_test,rf,\"AdaBoost for RF\")\n",
    "ada2_res"
   ]
  },
  {
   "cell_type": "markdown",
   "id": "984c263e",
   "metadata": {},
   "source": [
    "### KNeighborsRegressor"
   ]
  },
  {
   "cell_type": "code",
   "execution_count": 58,
   "id": "24606eee",
   "metadata": {},
   "outputs": [
    {
     "data": {
      "text/html": [
       "<div>\n",
       "<style scoped>\n",
       "    .dataframe tbody tr th:only-of-type {\n",
       "        vertical-align: middle;\n",
       "    }\n",
       "\n",
       "    .dataframe tbody tr th {\n",
       "        vertical-align: top;\n",
       "    }\n",
       "\n",
       "    .dataframe thead th {\n",
       "        text-align: right;\n",
       "    }\n",
       "</style>\n",
       "<table border=\"1\" class=\"dataframe\">\n",
       "  <thead>\n",
       "    <tr style=\"text-align: right;\">\n",
       "      <th></th>\n",
       "      <th>Train_scr</th>\n",
       "      <th>Test_scr</th>\n",
       "      <th>RMSE</th>\n",
       "      <th>MSE</th>\n",
       "      <th>MAE</th>\n",
       "    </tr>\n",
       "  </thead>\n",
       "  <tbody>\n",
       "    <tr>\n",
       "      <th>KNeighbours</th>\n",
       "      <td>0.384824</td>\n",
       "      <td>-0.047204</td>\n",
       "      <td>428018.135304</td>\n",
       "      <td>1.831995e+11</td>\n",
       "      <td>257820.253408</td>\n",
       "    </tr>\n",
       "  </tbody>\n",
       "</table>\n",
       "</div>"
      ],
      "text/plain": [
       "             Train_scr  Test_scr           RMSE           MSE            MAE\n",
       "KNeighbours   0.384824 -0.047204  428018.135304  1.831995e+11  257820.253408"
      ]
     },
     "execution_count": 58,
     "metadata": {},
     "output_type": "execute_result"
    }
   ],
   "source": [
    "Knn1=KNeighborsRegressor(n_neighbors=5)\n",
    "knn1_res=model_eval(x_train,x_test,y_train,y_test,Knn1,\"KNeighbours\")\n",
    "knn1_res"
   ]
  },
  {
   "cell_type": "code",
   "execution_count": 59,
   "id": "2d299e57",
   "metadata": {},
   "outputs": [],
   "source": [
    "def optimal_K():\n",
    "    k = list(range(3,40,2)) # k= 3,5,7,9....,35,37,39\n",
    "    acc = []\n",
    "    for i in range(len(k)):\n",
    "        knn_model = KNeighborsRegressor(n_neighbors=k[i])\n",
    "        knn_model.fit(x_train,y_train)\n",
    "        acc.append(knn_model.score(x_test,y_test))\n",
    "    print('Accuracy\\n',acc)\n",
    "    plt.plot(k,acc,color='maroon',marker='o')\n",
    "    plt.xlabel('Num of Nearest Nerighbors')\n",
    "    plt.ylabel('Test accuarcy')\n",
    "    plt.grid()\n",
    "    plt.show()"
   ]
  },
  {
   "cell_type": "code",
   "execution_count": 60,
   "id": "6cef1df4",
   "metadata": {},
   "outputs": [
    {
     "name": "stdout",
     "output_type": "stream",
     "text": [
      "Accuracy\n",
      " [-0.1126054043360567, -0.04720366522352859, -0.004076248810364724, -0.0046865050710214184, 0.005611507528793802, 0.013215937520724474, 0.030612432191382766, 0.034832042089547155, 0.04638515956124145, 0.04627904865486798, 0.04619361504552577, 0.0430533142294508, 0.04490090175385342, 0.04491890490677397, 0.049530718673289176, 0.047096747796232186, 0.05015692694434992, 0.05337686643081985, 0.05084763690823568]\n"
     ]
    },
    {
     "data": {
      "image/png": "[encoded data removed]",
      "text/plain": [
       "<Figure size 640x480 with 1 Axes>"
      ]
     },
     "metadata": {},
     "output_type": "display_data"
    }
   ],
   "source": [
    "optimal_K()"
   ]
  },
  {
   "cell_type": "code",
   "execution_count": null,
   "id": "4d902010",
   "metadata": {},
   "outputs": [],
   "source": []
  },
  {
   "cell_type": "markdown",
   "id": "d2845668",
   "metadata": {},
   "source": [
    "### BaggingRegressor for KNeighborsRegressor"
   ]
  },
  {
   "cell_type": "code",
   "execution_count": 61,
   "id": "88274c54",
   "metadata": {},
   "outputs": [
    {
     "data": {
      "text/html": [
       "<div>\n",
       "<style scoped>\n",
       "    .dataframe tbody tr th:only-of-type {\n",
       "        vertical-align: middle;\n",
       "    }\n",
       "\n",
       "    .dataframe tbody tr th {\n",
       "        vertical-align: top;\n",
       "    }\n",
       "\n",
       "    .dataframe thead th {\n",
       "        text-align: right;\n",
       "    }\n",
       "</style>\n",
       "<table border=\"1\" class=\"dataframe\">\n",
       "  <thead>\n",
       "    <tr style=\"text-align: right;\">\n",
       "      <th></th>\n",
       "      <th>Train_scr</th>\n",
       "      <th>Test_scr</th>\n",
       "      <th>RMSE</th>\n",
       "      <th>MSE</th>\n",
       "      <th>MAE</th>\n",
       "    </tr>\n",
       "  </thead>\n",
       "  <tbody>\n",
       "    <tr>\n",
       "      <th>Bagging for KN</th>\n",
       "      <td>0.384824</td>\n",
       "      <td>-0.047204</td>\n",
       "      <td>428018.135304</td>\n",
       "      <td>1.831995e+11</td>\n",
       "      <td>257820.253408</td>\n",
       "    </tr>\n",
       "  </tbody>\n",
       "</table>\n",
       "</div>"
      ],
      "text/plain": [
       "                Train_scr  Test_scr           RMSE           MSE  \\\n",
       "Bagging for KN   0.384824 -0.047204  428018.135304  1.831995e+11   \n",
       "\n",
       "                          MAE  \n",
       "Bagging for KN  257820.253408  "
      ]
     },
     "execution_count": 61,
     "metadata": {},
     "output_type": "execute_result"
    }
   ],
   "source": [
    "bag3=BaggingRegressor(n_estimators=25)\n",
    "bag3_res=model_eval(x_train,x_test,y_train,y_test,Knn1,\"Bagging for KN\")\n",
    "bag3_res"
   ]
  },
  {
   "cell_type": "markdown",
   "id": "a9c9e1d7",
   "metadata": {},
   "source": [
    "### AdaBoostRegressor for KNeighborsRegressor"
   ]
  },
  {
   "cell_type": "code",
   "execution_count": 62,
   "id": "18882bc6",
   "metadata": {},
   "outputs": [
    {
     "data": {
      "text/html": [
       "<div>\n",
       "<style scoped>\n",
       "    .dataframe tbody tr th:only-of-type {\n",
       "        vertical-align: middle;\n",
       "    }\n",
       "\n",
       "    .dataframe tbody tr th {\n",
       "        vertical-align: top;\n",
       "    }\n",
       "\n",
       "    .dataframe thead th {\n",
       "        text-align: right;\n",
       "    }\n",
       "</style>\n",
       "<table border=\"1\" class=\"dataframe\">\n",
       "  <thead>\n",
       "    <tr style=\"text-align: right;\">\n",
       "      <th></th>\n",
       "      <th>Train_scr</th>\n",
       "      <th>Test_scr</th>\n",
       "      <th>RMSE</th>\n",
       "      <th>MSE</th>\n",
       "      <th>MAE</th>\n",
       "    </tr>\n",
       "  </thead>\n",
       "  <tbody>\n",
       "    <tr>\n",
       "      <th>AdaBoost for KN</th>\n",
       "      <td>0.38482</td>\n",
       "      <td>-0.0472</td>\n",
       "      <td>428018.1353</td>\n",
       "      <td>1.831995e+11</td>\n",
       "      <td>257820.25341</td>\n",
       "    </tr>\n",
       "  </tbody>\n",
       "</table>\n",
       "</div>"
      ],
      "text/plain": [
       "                 Train_scr  Test_scr         RMSE           MSE           MAE\n",
       "AdaBoost for KN    0.38482   -0.0472  428018.1353  1.831995e+11  257820.25341"
      ]
     },
     "execution_count": 62,
     "metadata": {},
     "output_type": "execute_result"
    }
   ],
   "source": [
    "adaboost3=AdaBoostRegressor(n_estimators=70)\n",
    "ada3_res=model_eval(x_train,x_test,y_train,y_test,Knn1,\"AdaBoost for KN\")\n",
    "ada3_res.round(5)"
   ]
  },
  {
   "cell_type": "code",
   "execution_count": 63,
   "id": "0a4c8796",
   "metadata": {},
   "outputs": [
    {
     "data": {
      "text/html": [
       "<div>\n",
       "<style scoped>\n",
       "    .dataframe tbody tr th:only-of-type {\n",
       "        vertical-align: middle;\n",
       "    }\n",
       "\n",
       "    .dataframe tbody tr th {\n",
       "        vertical-align: top;\n",
       "    }\n",
       "\n",
       "    .dataframe thead th {\n",
       "        text-align: right;\n",
       "    }\n",
       "</style>\n",
       "<table border=\"1\" class=\"dataframe\">\n",
       "  <thead>\n",
       "    <tr style=\"text-align: right;\">\n",
       "      <th></th>\n",
       "      <th>Train_scr</th>\n",
       "      <th>Test_scr</th>\n",
       "      <th>RMSE</th>\n",
       "      <th>MSE</th>\n",
       "      <th>MAE</th>\n",
       "    </tr>\n",
       "  </thead>\n",
       "  <tbody>\n",
       "    <tr>\n",
       "      <th>Linear</th>\n",
       "      <td>0.722</td>\n",
       "      <td>0.676</td>\n",
       "      <td>238241.229</td>\n",
       "      <td>5.675888e+10</td>\n",
       "      <td>159968.298</td>\n",
       "    </tr>\n",
       "    <tr>\n",
       "      <th>Ridge</th>\n",
       "      <td>0.721</td>\n",
       "      <td>0.676</td>\n",
       "      <td>238230.370</td>\n",
       "      <td>5.675371e+10</td>\n",
       "      <td>160653.456</td>\n",
       "    </tr>\n",
       "    <tr>\n",
       "      <th>Lasso</th>\n",
       "      <td>0.721</td>\n",
       "      <td>0.676</td>\n",
       "      <td>238230.370</td>\n",
       "      <td>5.675371e+10</td>\n",
       "      <td>160653.456</td>\n",
       "    </tr>\n",
       "    <tr>\n",
       "      <th>Decision Tree</th>\n",
       "      <td>0.874</td>\n",
       "      <td>0.785</td>\n",
       "      <td>193943.168</td>\n",
       "      <td>3.761395e+10</td>\n",
       "      <td>123314.827</td>\n",
       "    </tr>\n",
       "    <tr>\n",
       "      <th>Bagging for DT</th>\n",
       "      <td>0.874</td>\n",
       "      <td>0.785</td>\n",
       "      <td>193943.168</td>\n",
       "      <td>3.761395e+10</td>\n",
       "      <td>123314.827</td>\n",
       "    </tr>\n",
       "    <tr>\n",
       "      <th>AddaBoost for DT</th>\n",
       "      <td>0.874</td>\n",
       "      <td>0.785</td>\n",
       "      <td>193943.168</td>\n",
       "      <td>3.761395e+10</td>\n",
       "      <td>123314.827</td>\n",
       "    </tr>\n",
       "    <tr>\n",
       "      <th>Random Forest</th>\n",
       "      <td>0.874</td>\n",
       "      <td>0.785</td>\n",
       "      <td>193943.168</td>\n",
       "      <td>3.761395e+10</td>\n",
       "      <td>123314.827</td>\n",
       "    </tr>\n",
       "    <tr>\n",
       "      <th>Bagging for RF</th>\n",
       "      <td>0.874</td>\n",
       "      <td>0.785</td>\n",
       "      <td>193943.168</td>\n",
       "      <td>3.761395e+10</td>\n",
       "      <td>123314.827</td>\n",
       "    </tr>\n",
       "    <tr>\n",
       "      <th>AdaBoost for RF</th>\n",
       "      <td>0.928</td>\n",
       "      <td>0.823</td>\n",
       "      <td>175791.477</td>\n",
       "      <td>3.090264e+10</td>\n",
       "      <td>106933.269</td>\n",
       "    </tr>\n",
       "    <tr>\n",
       "      <th>KNeighbours</th>\n",
       "      <td>0.385</td>\n",
       "      <td>-0.047</td>\n",
       "      <td>428018.135</td>\n",
       "      <td>1.831995e+11</td>\n",
       "      <td>257820.253</td>\n",
       "    </tr>\n",
       "    <tr>\n",
       "      <th>Bagging for KN</th>\n",
       "      <td>0.385</td>\n",
       "      <td>-0.047</td>\n",
       "      <td>428018.135</td>\n",
       "      <td>1.831995e+11</td>\n",
       "      <td>257820.253</td>\n",
       "    </tr>\n",
       "    <tr>\n",
       "      <th>AdaBoost for KN</th>\n",
       "      <td>0.385</td>\n",
       "      <td>-0.047</td>\n",
       "      <td>428018.135</td>\n",
       "      <td>1.831995e+11</td>\n",
       "      <td>257820.253</td>\n",
       "    </tr>\n",
       "  </tbody>\n",
       "</table>\n",
       "</div>"
      ],
      "text/plain": [
       "                  Train_scr  Test_scr        RMSE           MSE         MAE\n",
       "Linear                0.722     0.676  238241.229  5.675888e+10  159968.298\n",
       "Ridge                 0.721     0.676  238230.370  5.675371e+10  160653.456\n",
       "Lasso                 0.721     0.676  238230.370  5.675371e+10  160653.456\n",
       "Decision Tree         0.874     0.785  193943.168  3.761395e+10  123314.827\n",
       "Bagging for DT        0.874     0.785  193943.168  3.761395e+10  123314.827\n",
       "AddaBoost for DT      0.874     0.785  193943.168  3.761395e+10  123314.827\n",
       "Random Forest         0.874     0.785  193943.168  3.761395e+10  123314.827\n",
       "Bagging for RF        0.874     0.785  193943.168  3.761395e+10  123314.827\n",
       "AdaBoost for RF       0.928     0.823  175791.477  3.090264e+10  106933.269\n",
       "KNeighbours           0.385    -0.047  428018.135  1.831995e+11  257820.253\n",
       "Bagging for KN        0.385    -0.047  428018.135  1.831995e+11  257820.253\n",
       "AdaBoost for KN       0.385    -0.047  428018.135  1.831995e+11  257820.253"
      ]
     },
     "execution_count": 63,
     "metadata": {},
     "output_type": "execute_result"
    }
   ],
   "source": [
    "res=pd.concat([lg_res,rd_res,ls_res,dt_res,bag1_res,ada1_res,rf_res,bag2_res,ada2_res,\n",
    "               knn1_res,bag3_res,ada3_res])\n",
    "res.round(3)\n"
   ]
  },
  {
   "cell_type": "markdown",
   "id": "3d19e5c8",
   "metadata": {},
   "source": [
    "### Hyper Parameter Tunning"
   ]
  },
  {
   "cell_type": "code",
   "execution_count": 64,
   "id": "aa9cba14",
   "metadata": {},
   "outputs": [
    {
     "name": "stdout",
     "output_type": "stream",
     "text": [
      "Best hyperparameters found:\n",
      "{'max_depth': 20, 'min_samples_leaf': 1, 'min_samples_split': 2, 'n_estimators': 100}\n",
      "Accuracy on the test set: 0.84\n"
     ]
    }
   ],
   "source": [
    "from sklearn.model_selection import GridSearchCV\n",
    "\n",
    "# Define the hyperparameter grid to search\n",
    "param_grid = {\n",
    "    'n_estimators': [50, 100, 200],\n",
    "    'max_depth': [ 10,15,20],\n",
    "    'min_samples_split': [2, 5, 10,15],\n",
    "    'min_samples_leaf': [1, 2, 4]\n",
    "}\n",
    "\n",
    "# Create the GridSearchCV object\n",
    "grid_search = GridSearchCV(rf, param_grid, cv=5)\n",
    "\n",
    "# Fit the grid search to the data\n",
    "grid_search.fit(x_train, y_train)\n",
    "\n",
    "# Print the best hyperparameters\n",
    "print(\"Best hyperparameters found:\")\n",
    "print(grid_search.best_params_)\n",
    "\n",
    "# Evaluate the model with the best hyperparameters on the test set\n",
    "best_rf_model = grid_search.best_estimator_\n",
    "accuracy = best_rf_model.score(x_test, y_test)\n",
    "print(f\"Accuracy on the test set: {accuracy:.2f}\")"
   ]
  },
  {
   "cell_type": "code",
   "execution_count": null,
   "id": "58b99dc8",
   "metadata": {},
   "outputs": [],
   "source": []
  },
  {
   "cell_type": "code",
   "execution_count": 65,
   "id": "74ac0d83",
   "metadata": {},
   "outputs": [
    {
     "data": {
      "text/html": [
       "<div>\n",
       "<style scoped>\n",
       "    .dataframe tbody tr th:only-of-type {\n",
       "        vertical-align: middle;\n",
       "    }\n",
       "\n",
       "    .dataframe tbody tr th {\n",
       "        vertical-align: top;\n",
       "    }\n",
       "\n",
       "    .dataframe thead th {\n",
       "        text-align: right;\n",
       "    }\n",
       "</style>\n",
       "<table border=\"1\" class=\"dataframe\">\n",
       "  <thead>\n",
       "    <tr style=\"text-align: right;\">\n",
       "      <th></th>\n",
       "      <th>Train_scr</th>\n",
       "      <th>Test_scr</th>\n",
       "      <th>RMSE</th>\n",
       "      <th>MSE</th>\n",
       "      <th>MAE</th>\n",
       "    </tr>\n",
       "  </thead>\n",
       "  <tbody>\n",
       "    <tr>\n",
       "      <th>Random Forest</th>\n",
       "      <td>0.946217</td>\n",
       "      <td>0.837787</td>\n",
       "      <td>168456.901527</td>\n",
       "      <td>2.837773e+10</td>\n",
       "      <td>102914.230244</td>\n",
       "    </tr>\n",
       "  </tbody>\n",
       "</table>\n",
       "</div>"
      ],
      "text/plain": [
       "               Train_scr  Test_scr           RMSE           MSE            MAE\n",
       "Random Forest   0.946217  0.837787  168456.901527  2.837773e+10  102914.230244"
      ]
     },
     "execution_count": 65,
     "metadata": {},
     "output_type": "execute_result"
    }
   ],
   "source": [
    "rf1=RandomForestRegressor(n_estimators=200,max_depth=15,min_samples_split=5,min_samples_leaf=1)\n",
    "rf_res=model_eval(x_train,x_test,y_train,y_test,rf1,\"Random Forest\")\n",
    "rf_res"
   ]
  },
  {
   "cell_type": "code",
   "execution_count": 66,
   "id": "5bcb1a93",
   "metadata": {},
   "outputs": [
    {
     "data": {
      "text/html": [
       "<div>\n",
       "<style scoped>\n",
       "    .dataframe tbody tr th:only-of-type {\n",
       "        vertical-align: middle;\n",
       "    }\n",
       "\n",
       "    .dataframe tbody tr th {\n",
       "        vertical-align: top;\n",
       "    }\n",
       "\n",
       "    .dataframe thead th {\n",
       "        text-align: right;\n",
       "    }\n",
       "</style>\n",
       "<table border=\"1\" class=\"dataframe\">\n",
       "  <thead>\n",
       "    <tr style=\"text-align: right;\">\n",
       "      <th></th>\n",
       "      <th>Train_scr</th>\n",
       "      <th>Test_scr</th>\n",
       "      <th>RMSE</th>\n",
       "      <th>MSE</th>\n",
       "      <th>MAE</th>\n",
       "    </tr>\n",
       "  </thead>\n",
       "  <tbody>\n",
       "    <tr>\n",
       "      <th>Bagging for Rf</th>\n",
       "      <td>0.947215</td>\n",
       "      <td>0.834785</td>\n",
       "      <td>170008.962354</td>\n",
       "      <td>2.890305e+10</td>\n",
       "      <td>103399.801124</td>\n",
       "    </tr>\n",
       "  </tbody>\n",
       "</table>\n",
       "</div>"
      ],
      "text/plain": [
       "                Train_scr  Test_scr           RMSE           MSE  \\\n",
       "Bagging for Rf   0.947215  0.834785  170008.962354  2.890305e+10   \n",
       "\n",
       "                          MAE  \n",
       "Bagging for Rf  103399.801124  "
      ]
     },
     "execution_count": 66,
     "metadata": {},
     "output_type": "execute_result"
    }
   ],
   "source": [
    "bg4=BaggingRegressor(n_estimators=200,estimator=rf1,max_features=x_train.shape[1],\n",
    "                        max_samples=x_train.shape[0])\n",
    "bag1_res=model_eval(x_train,x_test,y_train,y_test,rf1,\"Bagging for Rf\")\n",
    "bag1_res"
   ]
  },
  {
   "cell_type": "code",
   "execution_count": 67,
   "id": "1e6a1794",
   "metadata": {},
   "outputs": [
    {
     "data": {
      "text/html": [
       "<div>\n",
       "<style scoped>\n",
       "    .dataframe tbody tr th:only-of-type {\n",
       "        vertical-align: middle;\n",
       "    }\n",
       "\n",
       "    .dataframe tbody tr th {\n",
       "        vertical-align: top;\n",
       "    }\n",
       "\n",
       "    .dataframe thead th {\n",
       "        text-align: right;\n",
       "    }\n",
       "</style>\n",
       "<table border=\"1\" class=\"dataframe\">\n",
       "  <thead>\n",
       "    <tr style=\"text-align: right;\">\n",
       "      <th></th>\n",
       "      <th>Train_scr</th>\n",
       "      <th>Test_scr</th>\n",
       "      <th>RMSE</th>\n",
       "      <th>MSE</th>\n",
       "      <th>MAE</th>\n",
       "    </tr>\n",
       "  </thead>\n",
       "  <tbody>\n",
       "    <tr>\n",
       "      <th>adda for rf</th>\n",
       "      <td>0.945557</td>\n",
       "      <td>0.834757</td>\n",
       "      <td>170022.992292</td>\n",
       "      <td>2.890782e+10</td>\n",
       "      <td>103835.78759</td>\n",
       "    </tr>\n",
       "  </tbody>\n",
       "</table>\n",
       "</div>"
      ],
      "text/plain": [
       "             Train_scr  Test_scr           RMSE           MSE           MAE\n",
       "adda for rf   0.945557  0.834757  170022.992292  2.890782e+10  103835.78759"
      ]
     },
     "execution_count": 67,
     "metadata": {},
     "output_type": "execute_result"
    }
   ],
   "source": [
    "add5=BaggingRegressor(n_estimators=100,estimator=rf1)\n",
    "bag1_res=model_eval(x_train,x_test,y_train,y_test,rf1,\"adda for rf\")\n",
    "bag1_res"
   ]
  },
  {
   "cell_type": "markdown",
   "id": "90c06a56",
   "metadata": {},
   "source": [
    "### Choosing the Best model"
   ]
  },
  {
   "cell_type": "code",
   "execution_count": 68,
   "id": "d711cd21",
   "metadata": {},
   "outputs": [],
   "source": [
    "import pickle"
   ]
  },
  {
   "cell_type": "code",
   "execution_count": 69,
   "id": "2eae6e91",
   "metadata": {},
   "outputs": [
    {
     "data": {
      "text/html": [
       "<style>#sk-container-id-1 {color: black;background-color: white;}#sk-container-id-1 pre{padding: 0;}#sk-container-id-1 div.sk-toggleable {background-color: white;}#sk-container-id-1 label.sk-toggleable__label {cursor: pointer;display: block;width: 100%;margin-bottom: 0;padding: 0.3em;box-sizing: border-box;text-align: center;}#sk-container-id-1 label.sk-toggleable__label-arrow:before {content: \"▸\";float: left;margin-right: 0.25em;color: #696969;}#sk-container-id-1 label.sk-toggleable__label-arrow:hover:before {color: black;}#sk-container-id-1 div.sk-estimator:hover label.sk-toggleable__label-arrow:before {color: black;}#sk-container-id-1 div.sk-toggleable__content {max-height: 0;max-width: 0;overflow: hidden;text-align: left;background-color: #f0f8ff;}#sk-container-id-1 div.sk-toggleable__content pre {margin: 0.2em;color: black;border-radius: 0.25em;background-color: #f0f8ff;}#sk-container-id-1 input.sk-toggleable__control:checked~div.sk-toggleable__content {max-height: 200px;max-width: 100%;overflow: auto;}#sk-container-id-1 input.sk-toggleable__control:checked~label.sk-toggleable__label-arrow:before {content: \"▾\";}#sk-container-id-1 div.sk-estimator input.sk-toggleable__control:checked~label.sk-toggleable__label {background-color: #d4ebff;}#sk-container-id-1 div.sk-label input.sk-toggleable__control:checked~label.sk-toggleable__label {background-color: #d4ebff;}#sk-container-id-1 input.sk-hidden--visually {border: 0;clip: rect(1px 1px 1px 1px);clip: rect(1px, 1px, 1px, 1px);height: 1px;margin: -1px;overflow: hidden;padding: 0;position: absolute;width: 1px;}#sk-container-id-1 div.sk-estimator {font-family: monospace;background-color: #f0f8ff;border: 1px dotted black;border-radius: 0.25em;box-sizing: border-box;margin-bottom: 0.5em;}#sk-container-id-1 div.sk-estimator:hover {background-color: #d4ebff;}#sk-container-id-1 div.sk-parallel-item::after {content: \"\";width: 100%;border-bottom: 1px solid gray;flex-grow: 1;}#sk-container-id-1 div.sk-label:hover label.sk-toggleable__label {background-color: #d4ebff;}#sk-container-id-1 div.sk-serial::before {content: \"\";position: absolute;border-left: 1px solid gray;box-sizing: border-box;top: 0;bottom: 0;left: 50%;z-index: 0;}#sk-container-id-1 div.sk-serial {display: flex;flex-direction: column;align-items: center;background-color: white;padding-right: 0.2em;padding-left: 0.2em;position: relative;}#sk-container-id-1 div.sk-item {position: relative;z-index: 1;}#sk-container-id-1 div.sk-parallel {display: flex;align-items: stretch;justify-content: center;background-color: white;position: relative;}#sk-container-id-1 div.sk-item::before, #sk-container-id-1 div.sk-parallel-item::before {content: \"\";position: absolute;border-left: 1px solid gray;box-sizing: border-box;top: 0;bottom: 0;left: 50%;z-index: -1;}#sk-container-id-1 div.sk-parallel-item {display: flex;flex-direction: column;z-index: 1;position: relative;background-color: white;}#sk-container-id-1 div.sk-parallel-item:first-child::after {align-self: flex-end;width: 50%;}#sk-container-id-1 div.sk-parallel-item:last-child::after {align-self: flex-start;width: 50%;}#sk-container-id-1 div.sk-parallel-item:only-child::after {width: 0;}#sk-container-id-1 div.sk-dashed-wrapped {border: 1px dashed gray;margin: 0 0.4em 0.5em 0.4em;box-sizing: border-box;padding-bottom: 0.4em;background-color: white;}#sk-container-id-1 div.sk-label label {font-family: monospace;font-weight: bold;display: inline-block;line-height: 1.2em;}#sk-container-id-1 div.sk-label-container {text-align: center;}#sk-container-id-1 div.sk-container {/* jupyter's `normalize.less` sets `[hidden] { display: none; }` but bootstrap.min.css set `[hidden] { display: none !important; }` so we also need the `!important` here to be able to override the default hidden behavior on the sphinx rendered scikit-learn.org. See: https://github.com/scikit-learn/scikit-learn/issues/21755 */display: inline-block !important;position: relative;}#sk-container-id-1 div.sk-text-repr-fallback {display: none;}</style><div id=\"sk-container-id-1\" class=\"sk-top-container\"><div class=\"sk-text-repr-fallback\"><pre>RandomForestRegressor(max_depth=15, min_samples_split=5, n_estimators=200)</pre><b>In a Jupyter environment, please rerun this cell to show the HTML representation or trust the notebook. <br />On GitHub, the HTML representation is unable to render, please try loading this page with nbviewer.org.</b></div><div class=\"sk-container\" hidden><div class=\"sk-item\"><div class=\"sk-estimator sk-toggleable\"><input class=\"sk-toggleable__control sk-hidden--visually\" id=\"sk-estimator-id-1\" type=\"checkbox\" checked><label for=\"sk-estimator-id-1\" class=\"sk-toggleable__label sk-toggleable__label-arrow\">RandomForestRegressor</label><div class=\"sk-toggleable__content\"><pre>RandomForestRegressor(max_depth=15, min_samples_split=5, n_estimators=200)</pre></div></div></div></div></div>"
      ],
      "text/plain": [
       "RandomForestRegressor(max_depth=15, min_samples_split=5, n_estimators=200)"
      ]
     },
     "execution_count": 69,
     "metadata": {},
     "output_type": "execute_result"
    }
   ],
   "source": [
    "final_model=RandomForestRegressor(n_estimators=200,max_depth=15,min_samples_split=5,min_samples_leaf=1)\n",
    "final_model.fit(x_train,y_train)"
   ]
  },
  {
   "cell_type": "code",
   "execution_count": 70,
   "id": "b5a4bc81",
   "metadata": {},
   "outputs": [],
   "source": [
    "pickle.dump(final_model,open('final.pkl','wb'))"
   ]
  },
  {
   "cell_type": "code",
   "execution_count": null,
   "id": "e7145021",
   "metadata": {},
   "outputs": [],
   "source": []
  },
  {
   "cell_type": "code",
   "execution_count": 71,
   "id": "4d0058db",
   "metadata": {},
   "outputs": [
    {
     "data": {
      "text/html": [
       "<div>\n",
       "<style scoped>\n",
       "    .dataframe tbody tr th:only-of-type {\n",
       "        vertical-align: middle;\n",
       "    }\n",
       "\n",
       "    .dataframe tbody tr th {\n",
       "        vertical-align: top;\n",
       "    }\n",
       "\n",
       "    .dataframe thead th {\n",
       "        text-align: right;\n",
       "    }\n",
       "</style>\n",
       "<table border=\"1\" class=\"dataframe\">\n",
       "  <thead>\n",
       "    <tr style=\"text-align: right;\">\n",
       "      <th></th>\n",
       "      <th>year</th>\n",
       "      <th>km_driven</th>\n",
       "      <th>model_enc</th>\n",
       "      <th>fuel_CNG</th>\n",
       "      <th>fuel_Diesel</th>\n",
       "      <th>fuel_Electric</th>\n",
       "      <th>fuel_LPG</th>\n",
       "      <th>fuel_Petrol</th>\n",
       "      <th>seller_type_Dealer</th>\n",
       "      <th>seller_type_Individual</th>\n",
       "      <th>...</th>\n",
       "      <th>brand_Mercedes-Benz</th>\n",
       "      <th>brand_Mitsubishi</th>\n",
       "      <th>brand_Nissan</th>\n",
       "      <th>brand_OpelCorsa</th>\n",
       "      <th>brand_Renault</th>\n",
       "      <th>brand_Skoda</th>\n",
       "      <th>brand_Tata</th>\n",
       "      <th>brand_Toyota</th>\n",
       "      <th>brand_Volkswagen</th>\n",
       "      <th>brand_Volvo</th>\n",
       "    </tr>\n",
       "  </thead>\n",
       "  <tbody>\n",
       "    <tr>\n",
       "      <th>0</th>\n",
       "      <td>2007</td>\n",
       "      <td>70000.0</td>\n",
       "      <td>6</td>\n",
       "      <td>0</td>\n",
       "      <td>0</td>\n",
       "      <td>0</td>\n",
       "      <td>0</td>\n",
       "      <td>1</td>\n",
       "      <td>0</td>\n",
       "      <td>1</td>\n",
       "      <td>...</td>\n",
       "      <td>0</td>\n",
       "      <td>0</td>\n",
       "      <td>0</td>\n",
       "      <td>0</td>\n",
       "      <td>0</td>\n",
       "      <td>0</td>\n",
       "      <td>0</td>\n",
       "      <td>0</td>\n",
       "      <td>0</td>\n",
       "      <td>0</td>\n",
       "    </tr>\n",
       "    <tr>\n",
       "      <th>1</th>\n",
       "      <td>2007</td>\n",
       "      <td>50000.0</td>\n",
       "      <td>164</td>\n",
       "      <td>0</td>\n",
       "      <td>0</td>\n",
       "      <td>0</td>\n",
       "      <td>0</td>\n",
       "      <td>1</td>\n",
       "      <td>0</td>\n",
       "      <td>1</td>\n",
       "      <td>...</td>\n",
       "      <td>0</td>\n",
       "      <td>0</td>\n",
       "      <td>0</td>\n",
       "      <td>0</td>\n",
       "      <td>0</td>\n",
       "      <td>0</td>\n",
       "      <td>0</td>\n",
       "      <td>0</td>\n",
       "      <td>0</td>\n",
       "      <td>0</td>\n",
       "    </tr>\n",
       "    <tr>\n",
       "      <th>2</th>\n",
       "      <td>2012</td>\n",
       "      <td>100000.0</td>\n",
       "      <td>161</td>\n",
       "      <td>0</td>\n",
       "      <td>1</td>\n",
       "      <td>0</td>\n",
       "      <td>0</td>\n",
       "      <td>0</td>\n",
       "      <td>0</td>\n",
       "      <td>1</td>\n",
       "      <td>...</td>\n",
       "      <td>0</td>\n",
       "      <td>0</td>\n",
       "      <td>0</td>\n",
       "      <td>0</td>\n",
       "      <td>0</td>\n",
       "      <td>0</td>\n",
       "      <td>0</td>\n",
       "      <td>0</td>\n",
       "      <td>0</td>\n",
       "      <td>0</td>\n",
       "    </tr>\n",
       "    <tr>\n",
       "      <th>3</th>\n",
       "      <td>2017</td>\n",
       "      <td>46000.0</td>\n",
       "      <td>125</td>\n",
       "      <td>0</td>\n",
       "      <td>0</td>\n",
       "      <td>0</td>\n",
       "      <td>0</td>\n",
       "      <td>1</td>\n",
       "      <td>0</td>\n",
       "      <td>1</td>\n",
       "      <td>...</td>\n",
       "      <td>0</td>\n",
       "      <td>0</td>\n",
       "      <td>0</td>\n",
       "      <td>0</td>\n",
       "      <td>0</td>\n",
       "      <td>0</td>\n",
       "      <td>0</td>\n",
       "      <td>0</td>\n",
       "      <td>0</td>\n",
       "      <td>0</td>\n",
       "    </tr>\n",
       "    <tr>\n",
       "      <th>4</th>\n",
       "      <td>2014</td>\n",
       "      <td>141000.0</td>\n",
       "      <td>17</td>\n",
       "      <td>0</td>\n",
       "      <td>1</td>\n",
       "      <td>0</td>\n",
       "      <td>0</td>\n",
       "      <td>0</td>\n",
       "      <td>0</td>\n",
       "      <td>1</td>\n",
       "      <td>...</td>\n",
       "      <td>0</td>\n",
       "      <td>0</td>\n",
       "      <td>0</td>\n",
       "      <td>0</td>\n",
       "      <td>0</td>\n",
       "      <td>0</td>\n",
       "      <td>0</td>\n",
       "      <td>0</td>\n",
       "      <td>0</td>\n",
       "      <td>0</td>\n",
       "    </tr>\n",
       "  </tbody>\n",
       "</table>\n",
       "<p>5 rows × 47 columns</p>\n",
       "</div>"
      ],
      "text/plain": [
       "   year  km_driven  model_enc  fuel_CNG  fuel_Diesel  fuel_Electric  fuel_LPG  \\\n",
       "0  2007    70000.0          6         0            0              0         0   \n",
       "1  2007    50000.0        164         0            0              0         0   \n",
       "2  2012   100000.0        161         0            1              0         0   \n",
       "3  2017    46000.0        125         0            0              0         0   \n",
       "4  2014   141000.0         17         0            1              0         0   \n",
       "\n",
       "   fuel_Petrol  seller_type_Dealer  seller_type_Individual  ...  \\\n",
       "0            1                   0                       1  ...   \n",
       "1            1                   0                       1  ...   \n",
       "2            0                   0                       1  ...   \n",
       "3            1                   0                       1  ...   \n",
       "4            0                   0                       1  ...   \n",
       "\n",
       "   brand_Mercedes-Benz  brand_Mitsubishi  brand_Nissan  brand_OpelCorsa  \\\n",
       "0                    0                 0             0                0   \n",
       "1                    0                 0             0                0   \n",
       "2                    0                 0             0                0   \n",
       "3                    0                 0             0                0   \n",
       "4                    0                 0             0                0   \n",
       "\n",
       "   brand_Renault  brand_Skoda  brand_Tata  brand_Toyota  brand_Volkswagen  \\\n",
       "0              0            0           0             0                 0   \n",
       "1              0            0           0             0                 0   \n",
       "2              0            0           0             0                 0   \n",
       "3              0            0           0             0                 0   \n",
       "4              0            0           0             0                 0   \n",
       "\n",
       "   brand_Volvo  \n",
       "0            0  \n",
       "1            0  \n",
       "2            0  \n",
       "3            0  \n",
       "4            0  \n",
       "\n",
       "[5 rows x 47 columns]"
      ]
     },
     "execution_count": 71,
     "metadata": {},
     "output_type": "execute_result"
    }
   ],
   "source": [
    "x.head()"
   ]
  },
  {
   "cell_type": "code",
   "execution_count": 72,
   "id": "ac9d5970",
   "metadata": {},
   "outputs": [
    {
     "data": {
      "text/plain": [
       "Index(['year', 'km_driven', 'model_enc', 'fuel_CNG', 'fuel_Diesel',\n",
       "       'fuel_Electric', 'fuel_LPG', 'fuel_Petrol', 'seller_type_Dealer',\n",
       "       'seller_type_Individual', 'seller_type_Trustmark Dealer',\n",
       "       'transmission_Automatic', 'transmission_Manual', 'owner_First Owner',\n",
       "       'owner_Fourth & Above Owner', 'owner_Second Owner',\n",
       "       'owner_Test Drive Car', 'owner_Third Owner', 'brand_Ambassador',\n",
       "       'brand_Audi', 'brand_BMW', 'brand_Chevrolet', 'brand_Daewoo',\n",
       "       'brand_Datsun', 'brand_Fiat', 'brand_Force', 'brand_Ford',\n",
       "       'brand_Honda', 'brand_Hyundai', 'brand_Isuzu', 'brand_Jaguar',\n",
       "       'brand_Jeep', 'brand_Kia', 'brand_Land', 'brand_MG', 'brand_Mahindra',\n",
       "       'brand_Maruti', 'brand_Mercedes-Benz', 'brand_Mitsubishi',\n",
       "       'brand_Nissan', 'brand_OpelCorsa', 'brand_Renault', 'brand_Skoda',\n",
       "       'brand_Tata', 'brand_Toyota', 'brand_Volkswagen', 'brand_Volvo'],\n",
       "      dtype='object')"
      ]
     },
     "execution_count": 72,
     "metadata": {},
     "output_type": "execute_result"
    }
   ],
   "source": [
    "x.columns"
   ]
  },
  {
   "cell_type": "code",
   "execution_count": 73,
   "id": "6812ed17",
   "metadata": {},
   "outputs": [
    {
     "name": "stdout",
     "output_type": "stream",
     "text": [
      "3577\n"
     ]
    }
   ],
   "source": [
    "print(len(brand))"
   ]
  },
  {
   "cell_type": "markdown",
   "id": "4459bcc4",
   "metadata": {},
   "source": [
    "### Analysing data in Details for Web Devolp"
   ]
  },
  {
   "cell_type": "code",
   "execution_count": 74,
   "id": "22a03ca8",
   "metadata": {},
   "outputs": [
    {
     "data": {
      "text/html": [
       "<div>\n",
       "<style scoped>\n",
       "    .dataframe tbody tr th:only-of-type {\n",
       "        vertical-align: middle;\n",
       "    }\n",
       "\n",
       "    .dataframe tbody tr th {\n",
       "        vertical-align: top;\n",
       "    }\n",
       "\n",
       "    .dataframe thead th {\n",
       "        text-align: right;\n",
       "    }\n",
       "</style>\n",
       "<table border=\"1\" class=\"dataframe\">\n",
       "  <thead>\n",
       "    <tr style=\"text-align: right;\">\n",
       "      <th></th>\n",
       "      <th>name</th>\n",
       "      <th>year</th>\n",
       "      <th>selling_price</th>\n",
       "      <th>km_driven</th>\n",
       "      <th>fuel</th>\n",
       "      <th>seller_type</th>\n",
       "      <th>transmission</th>\n",
       "      <th>owner</th>\n",
       "    </tr>\n",
       "  </thead>\n",
       "  <tbody>\n",
       "    <tr>\n",
       "      <th>0</th>\n",
       "      <td>Maruti 800 AC</td>\n",
       "      <td>2007</td>\n",
       "      <td>60000</td>\n",
       "      <td>70000</td>\n",
       "      <td>Petrol</td>\n",
       "      <td>Individual</td>\n",
       "      <td>Manual</td>\n",
       "      <td>First Owner</td>\n",
       "    </tr>\n",
       "    <tr>\n",
       "      <th>1</th>\n",
       "      <td>Maruti Wagon R LXI Minor</td>\n",
       "      <td>2007</td>\n",
       "      <td>135000</td>\n",
       "      <td>50000</td>\n",
       "      <td>Petrol</td>\n",
       "      <td>Individual</td>\n",
       "      <td>Manual</td>\n",
       "      <td>First Owner</td>\n",
       "    </tr>\n",
       "    <tr>\n",
       "      <th>2</th>\n",
       "      <td>Hyundai Verna 1.6 SX</td>\n",
       "      <td>2012</td>\n",
       "      <td>600000</td>\n",
       "      <td>100000</td>\n",
       "      <td>Diesel</td>\n",
       "      <td>Individual</td>\n",
       "      <td>Manual</td>\n",
       "      <td>First Owner</td>\n",
       "    </tr>\n",
       "    <tr>\n",
       "      <th>3</th>\n",
       "      <td>Datsun RediGO T Option</td>\n",
       "      <td>2017</td>\n",
       "      <td>250000</td>\n",
       "      <td>46000</td>\n",
       "      <td>Petrol</td>\n",
       "      <td>Individual</td>\n",
       "      <td>Manual</td>\n",
       "      <td>First Owner</td>\n",
       "    </tr>\n",
       "    <tr>\n",
       "      <th>4</th>\n",
       "      <td>Honda Amaze VX i-DTEC</td>\n",
       "      <td>2014</td>\n",
       "      <td>450000</td>\n",
       "      <td>141000</td>\n",
       "      <td>Diesel</td>\n",
       "      <td>Individual</td>\n",
       "      <td>Manual</td>\n",
       "      <td>Second Owner</td>\n",
       "    </tr>\n",
       "  </tbody>\n",
       "</table>\n",
       "</div>"
      ],
      "text/plain": [
       "                       name  year  selling_price  km_driven    fuel  \\\n",
       "0             Maruti 800 AC  2007          60000      70000  Petrol   \n",
       "1  Maruti Wagon R LXI Minor  2007         135000      50000  Petrol   \n",
       "2      Hyundai Verna 1.6 SX  2012         600000     100000  Diesel   \n",
       "3    Datsun RediGO T Option  2017         250000      46000  Petrol   \n",
       "4     Honda Amaze VX i-DTEC  2014         450000     141000  Diesel   \n",
       "\n",
       "  seller_type transmission         owner  \n",
       "0  Individual       Manual   First Owner  \n",
       "1  Individual       Manual   First Owner  \n",
       "2  Individual       Manual   First Owner  \n",
       "3  Individual       Manual   First Owner  \n",
       "4  Individual       Manual  Second Owner  "
      ]
     },
     "execution_count": 74,
     "metadata": {},
     "output_type": "execute_result"
    }
   ],
   "source": [
    "df2=pd.read_csv(r'CAR DETAILS.csv')\n",
    "df2.head()"
   ]
  },
  {
   "cell_type": "code",
   "execution_count": 75,
   "id": "d5b96db0",
   "metadata": {},
   "outputs": [
    {
     "name": "stdout",
     "output_type": "stream",
     "text": [
      "{'Tata', 'Ford', 'Volkswagen', 'Audi', 'Volvo', 'Hyundai', 'Datsun', 'Kia', 'Isuzu', 'Honda', 'Jaguar', 'Daewoo', 'Fiat', 'Chevrolet', 'Toyota', 'Force', 'Mitsubishi', 'Ambassador', 'OpelCorsa', 'Mercedes-Benz', 'Jeep', 'Land', 'Skoda', 'Maruti', 'Nissan', 'MG', 'BMW', 'Mahindra', 'Renault'}\n"
     ]
    }
   ],
   "source": [
    "brand=set(brand)\n",
    "print(brand)"
   ]
  },
  {
   "cell_type": "code",
   "execution_count": 76,
   "id": "9f3867e4",
   "metadata": {},
   "outputs": [
    {
     "data": {
      "text/plain": [
       "{'CNG', 'Diesel', 'Electric', 'LPG', 'Petrol'}"
      ]
     },
     "execution_count": 76,
     "metadata": {},
     "output_type": "execute_result"
    }
   ],
   "source": [
    "fuel=set(df2['fuel'])\n",
    "fuel\n"
   ]
  },
  {
   "cell_type": "code",
   "execution_count": 77,
   "id": "3a9f7f16",
   "metadata": {},
   "outputs": [
    {
     "name": "stdout",
     "output_type": "stream",
     "text": [
      "3577\n"
     ]
    }
   ],
   "source": [
    "car_name=list(df2['name'])\n",
    "#print(car_names)\n",
    "print(len(car_names))"
   ]
  },
  {
   "cell_type": "code",
   "execution_count": 78,
   "id": "8f806934",
   "metadata": {},
   "outputs": [
    {
     "name": "stdout",
     "output_type": "stream",
     "text": [
      "4340\n",
      "4340\n",
      "4340\n"
     ]
    }
   ],
   "source": [
    "brand,model,sub_class=[],[],[]\n",
    "for car in car_name:\n",
    "    parts=car.split()\n",
    "    x=parts[0]\n",
    "    y=parts[1]\n",
    "    z=parts[2:]\n",
    "    brand.append(x)\n",
    "    model.append(y)\n",
    "    sub_class.append(z)\n",
    "    \n",
    "print(len(brand))\n",
    "print(len(model))\n",
    "print(len(sub_class))"
   ]
  },
  {
   "cell_type": "code",
   "execution_count": 79,
   "id": "685527f5",
   "metadata": {},
   "outputs": [],
   "source": [
    "sub_class=[' '.join(map(str, item)) for item in sub_class]"
   ]
  },
  {
   "cell_type": "code",
   "execution_count": 80,
   "id": "f4805d29",
   "metadata": {},
   "outputs": [
    {
     "data": {
      "text/html": [
       "<div>\n",
       "<style scoped>\n",
       "    .dataframe tbody tr th:only-of-type {\n",
       "        vertical-align: middle;\n",
       "    }\n",
       "\n",
       "    .dataframe tbody tr th {\n",
       "        vertical-align: top;\n",
       "    }\n",
       "\n",
       "    .dataframe thead th {\n",
       "        text-align: right;\n",
       "    }\n",
       "</style>\n",
       "<table border=\"1\" class=\"dataframe\">\n",
       "  <thead>\n",
       "    <tr style=\"text-align: right;\">\n",
       "      <th></th>\n",
       "      <th>name</th>\n",
       "      <th>year</th>\n",
       "      <th>selling_price</th>\n",
       "      <th>km_driven</th>\n",
       "      <th>fuel</th>\n",
       "      <th>seller_type</th>\n",
       "      <th>transmission</th>\n",
       "      <th>owner</th>\n",
       "      <th>brand1</th>\n",
       "      <th>model1</th>\n",
       "    </tr>\n",
       "  </thead>\n",
       "  <tbody>\n",
       "    <tr>\n",
       "      <th>0</th>\n",
       "      <td>Maruti 800 AC</td>\n",
       "      <td>2007</td>\n",
       "      <td>60000</td>\n",
       "      <td>70000</td>\n",
       "      <td>Petrol</td>\n",
       "      <td>Individual</td>\n",
       "      <td>Manual</td>\n",
       "      <td>First Owner</td>\n",
       "      <td>Maruti</td>\n",
       "      <td>800</td>\n",
       "    </tr>\n",
       "    <tr>\n",
       "      <th>1</th>\n",
       "      <td>Maruti Wagon R LXI Minor</td>\n",
       "      <td>2007</td>\n",
       "      <td>135000</td>\n",
       "      <td>50000</td>\n",
       "      <td>Petrol</td>\n",
       "      <td>Individual</td>\n",
       "      <td>Manual</td>\n",
       "      <td>First Owner</td>\n",
       "      <td>Maruti</td>\n",
       "      <td>Wagon</td>\n",
       "    </tr>\n",
       "    <tr>\n",
       "      <th>2</th>\n",
       "      <td>Hyundai Verna 1.6 SX</td>\n",
       "      <td>2012</td>\n",
       "      <td>600000</td>\n",
       "      <td>100000</td>\n",
       "      <td>Diesel</td>\n",
       "      <td>Individual</td>\n",
       "      <td>Manual</td>\n",
       "      <td>First Owner</td>\n",
       "      <td>Hyundai</td>\n",
       "      <td>Verna</td>\n",
       "    </tr>\n",
       "    <tr>\n",
       "      <th>3</th>\n",
       "      <td>Datsun RediGO T Option</td>\n",
       "      <td>2017</td>\n",
       "      <td>250000</td>\n",
       "      <td>46000</td>\n",
       "      <td>Petrol</td>\n",
       "      <td>Individual</td>\n",
       "      <td>Manual</td>\n",
       "      <td>First Owner</td>\n",
       "      <td>Datsun</td>\n",
       "      <td>RediGO</td>\n",
       "    </tr>\n",
       "    <tr>\n",
       "      <th>4</th>\n",
       "      <td>Honda Amaze VX i-DTEC</td>\n",
       "      <td>2014</td>\n",
       "      <td>450000</td>\n",
       "      <td>141000</td>\n",
       "      <td>Diesel</td>\n",
       "      <td>Individual</td>\n",
       "      <td>Manual</td>\n",
       "      <td>Second Owner</td>\n",
       "      <td>Honda</td>\n",
       "      <td>Amaze</td>\n",
       "    </tr>\n",
       "  </tbody>\n",
       "</table>\n",
       "</div>"
      ],
      "text/plain": [
       "                       name  year  selling_price  km_driven    fuel  \\\n",
       "0             Maruti 800 AC  2007          60000      70000  Petrol   \n",
       "1  Maruti Wagon R LXI Minor  2007         135000      50000  Petrol   \n",
       "2      Hyundai Verna 1.6 SX  2012         600000     100000  Diesel   \n",
       "3    Datsun RediGO T Option  2017         250000      46000  Petrol   \n",
       "4     Honda Amaze VX i-DTEC  2014         450000     141000  Diesel   \n",
       "\n",
       "  seller_type transmission         owner   brand1  model1  \n",
       "0  Individual       Manual   First Owner   Maruti     800  \n",
       "1  Individual       Manual   First Owner   Maruti   Wagon  \n",
       "2  Individual       Manual   First Owner  Hyundai   Verna  \n",
       "3  Individual       Manual   First Owner   Datsun  RediGO  \n",
       "4  Individual       Manual  Second Owner    Honda   Amaze  "
      ]
     },
     "execution_count": 80,
     "metadata": {},
     "output_type": "execute_result"
    }
   ],
   "source": [
    "df2['brand1']=brand\n",
    "df2['model1']=model\n",
    "df2.head()"
   ]
  },
  {
   "cell_type": "code",
   "execution_count": 81,
   "id": "9af3afbe",
   "metadata": {},
   "outputs": [
    {
     "data": {
      "text/plain": [
       "Index(['name', 'year', 'selling_price', 'km_driven', 'fuel', 'seller_type',\n",
       "       'transmission', 'owner', 'brand1', 'model1'],\n",
       "      dtype='object')"
      ]
     },
     "execution_count": 81,
     "metadata": {},
     "output_type": "execute_result"
    }
   ],
   "source": [
    "df2.columns"
   ]
  },
  {
   "cell_type": "code",
   "execution_count": 82,
   "id": "64fd8866",
   "metadata": {},
   "outputs": [
    {
     "data": {
      "text/plain": [
       "{'Dealer', 'Individual', 'Trustmark Dealer'}"
      ]
     },
     "execution_count": 82,
     "metadata": {},
     "output_type": "execute_result"
    }
   ],
   "source": [
    "seller_type=set(df2['seller_type'])\n",
    "seller_type"
   ]
  },
  {
   "cell_type": "code",
   "execution_count": 83,
   "id": "38b96a8d",
   "metadata": {},
   "outputs": [
    {
     "data": {
      "text/plain": [
       "{'Automatic', 'Manual'}"
      ]
     },
     "execution_count": 83,
     "metadata": {},
     "output_type": "execute_result"
    }
   ],
   "source": [
    "transmission=set(df2['transmission'])\n",
    "transmission"
   ]
  },
  {
   "cell_type": "code",
   "execution_count": 84,
   "id": "2dc2418c",
   "metadata": {},
   "outputs": [
    {
     "data": {
      "text/plain": [
       "{'First Owner',\n",
       " 'Fourth & Above Owner',\n",
       " 'Second Owner',\n",
       " 'Test Drive Car',\n",
       " 'Third Owner'}"
      ]
     },
     "execution_count": 84,
     "metadata": {},
     "output_type": "execute_result"
    }
   ],
   "source": [
    "owner=set(df2['owner'])\n",
    "owner"
   ]
  },
  {
   "cell_type": "code",
   "execution_count": 85,
   "id": "5a7e3c2b",
   "metadata": {},
   "outputs": [
    {
     "name": "stdout",
     "output_type": "stream",
     "text": [
      "{'GLS', 'Etios', 'Ritz', 'Ikon', 'Fluence', 'Vento', 'E-Class', 'S-Class', 'Lodgy', 'Gypsy', 'Optra', 'Bolt', 'Captiva', 'Q5', 'D-Max', 'Ignis', 'Hexa', 'Micra', 'C-Class', 'Manza', '500', 'Outlander', 'Passat', 'Winger', 'KWID', 'Captur', 'Alturas', 'Matiz', 'i20', 'Zest', 'Jetta', 'New', 'Eeco', 'Hector', 'Indica', 'Pulse', '3', 'Vitara', 'Quanto', 'Accent', 'CLASSIC', 'Alto', '7', 'Celerio', 'Zen', 'One', 'XC', 'Rover', 'X-Trail', 'Xenon', 'Esteem', 'Nano', 'S-Presso', 'Swift', 'RediGO', 'Ameo', 'Verito', 'Tucson', 'EcoSport', 'Xylo', 'GL-Class', 'A6', 'Elite', 'XUV300', 'Sail', 'Grand', 'Sonata', '5', 'Scorpio', 'BR-V', 'Q3', 'Sumo', 'Aspire', 'Nexon', 'Ecosport', 'A5', 'CR-V', 'Compass', 'Beat', 'Scala', 'Palio', 'Endeavour', 'Supro', 'Linea', 'Venue', 'XF', '800', 'Xcent', 'Sunny', 'Harrier', 'City', 'Ertiga', 'Classic', 'Thar', 'KUV', 'Aria', 'SX4', 'i10', 'Venture', 'Santa', 'Pajero', 'XUV500', 'Polo', 'Elantra', 'Punto', 'Triber', 'Enjoy', 'GO', 'A-Star', 'Seltos', 'Duster', 'Safari', 'Innova', 'WR-V', 'Accord', 'BRV', 'Tavera', 'Wagon', 'Tigor', 'Verna', 'Koleos', 'Aveo', 'Yeti', 'Jeep', 'Avventura', 'Corolla', 'Cruze', 'Ciaz', 'Camry', 'Omni', 'CrossPolo', 'EON', 'Yaris', 'Evalia', '1.4', 'XJ', 'Jazz', 'Q7', 'Octavia', 'V40', 'Figo', 'Terrano', 'X5', 'TUV', 'Grande', 'Superb', 'Fiesta', '1.6Gls', 'Santro', 'S-Cross', 'Fortuner', 'Laura', 'M-Class', 'Qualis', 'A8', 'Getz', 'Estilo', 'Brio', 'X1', 'redi-GO', 'Mobilio', 'RS7', 'Amaze', 'XC60', 'Montero', 'Spacio', 'B', 'Ingenio', 'Fusion', 'Marazzo', 'Creta', 'Freestyle', 'Baleno', 'Tiago', 'Indigo', 'Kicks', 'A4', 'Fabia', 'Civic', 'Bolero', 'Rapid', 'Spark', 'Altroz', 'Renault', 'NuvoSport'}\n"
     ]
    }
   ],
   "source": [
    "model=set(df2['model1'])\n",
    "print(model)"
   ]
  },
  {
   "cell_type": "code",
   "execution_count": null,
   "id": "4674b27c",
   "metadata": {},
   "outputs": [],
   "source": []
  },
  {
   "cell_type": "code",
   "execution_count": null,
   "id": "ced49321",
   "metadata": {},
   "outputs": [],
   "source": []
  },
  {
   "cell_type": "code",
   "execution_count": null,
   "id": "69400d0e",
   "metadata": {},
   "outputs": [],
   "source": []
  },
  {
   "cell_type": "code",
   "execution_count": null,
   "id": "2b20bad6",
   "metadata": {},
   "outputs": [],
   "source": []
  },
  {
   "cell_type": "code",
   "execution_count": null,
   "id": "65decc8f",
   "metadata": {},
   "outputs": [],
   "source": []
  },
  {
   "cell_type": "code",
   "execution_count": null,
   "id": "90c5457e",
   "metadata": {},
   "outputs": [],
   "source": []
  }
 ],
 "metadata": {
  "kernelspec": {
   "display_name": "Python 3 (ipykernel)",
   "language": "python",
   "name": "python3"
  },
  "language_info": {
   "codemirror_mode": {
    "name": "ipython",
    "version": 3
   },
   "file_extension": ".py",
   "mimetype": "text/x-python",
   "name": "python",
   "nbconvert_exporter": "python",
   "pygments_lexer": "ipython3",
   "version": "3.10.9"
  }
 },
 "nbformat": 4,
 "nbformat_minor": 5
}
